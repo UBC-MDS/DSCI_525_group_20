{
 "cells": [
  {
   "cell_type": "markdown",
   "metadata": {},
   "source": [
    "# DSCI 525: Milestone 1 Group 20\n",
    "\n",
    "## Group Members\n",
    "- Lauren Zung\n",
    "- Xinru Lu\n",
    "- Spencer Gerlach"
   ]
  },
  {
   "cell_type": "markdown",
   "metadata": {},
   "source": [
    "# Part 1 & 2: Contract & Repo\n",
    "\n",
    "- Completed by Lauren Zung"
   ]
  },
  {
   "cell_type": "markdown",
   "metadata": {},
   "source": [
    "# Part 3: Downloading the Data\n",
    "\n",
    "- Spencer Gerlach"
   ]
  },
  {
   "cell_type": "code",
   "execution_count": 1,
   "metadata": {
    "tags": []
   },
   "outputs": [],
   "source": [
    "# Imports\n",
    "\n",
    "import re\n",
    "import os\n",
    "import glob\n",
    "import zipfile\n",
    "import requests\n",
    "from urllib.request import urlretrieve\n",
    "import json\n",
    "import pandas as pd"
   ]
  },
  {
   "cell_type": "markdown",
   "metadata": {},
   "source": [
    "- Change directory to location files stored.\n",
    "\n",
    "- Assuming we can't save data to our repo.\n",
    "\n",
    "> Will need to be updated depending on who is running the notebook"
   ]
  },
  {
   "cell_type": "code",
   "execution_count": 2,
   "metadata": {},
   "outputs": [
    {
     "name": "stdout",
     "output_type": "stream",
     "text": [
      "/Users/lzung/Documents/GitHub/DSCI-525/DSCI_525_group_20/notebooks/data\n"
     ]
    }
   ],
   "source": [
    "%cd data"
   ]
  },
  {
   "cell_type": "code",
   "execution_count": 3,
   "metadata": {
    "tags": []
   },
   "outputs": [],
   "source": [
    "# Complete metadata required for API request\n",
    "\n",
    "article_id = 14096681\n",
    "url = f\"https://api.figshare.com/v2/articles/{article_id}\"\n",
    "headers = {\"Content-Type\": \"application/json\"}\n",
    "output_directory = \"figshare-nswrain\" # update depending on user"
   ]
  },
  {
   "cell_type": "code",
   "execution_count": 4,
   "metadata": {},
   "outputs": [
    {
     "data": {
      "text/plain": [
       "[{'id': 26579150,\n",
       "  'name': 'daily_rainfall_2014.png',\n",
       "  'size': 58863,\n",
       "  'is_link_only': False,\n",
       "  'download_url': 'https://ndownloader.figshare.com/files/26579150',\n",
       "  'supplied_md5': 'fd32a2ffde300a31f8d63b1825d47e5e',\n",
       "  'computed_md5': 'fd32a2ffde300a31f8d63b1825d47e5e'},\n",
       " {'id': 26579171,\n",
       "  'name': 'environment.yml',\n",
       "  'size': 192,\n",
       "  'is_link_only': False,\n",
       "  'download_url': 'https://ndownloader.figshare.com/files/26579171',\n",
       "  'supplied_md5': '060b2020017eed93a1ee7dd8c65b2f34',\n",
       "  'computed_md5': '060b2020017eed93a1ee7dd8c65b2f34'},\n",
       " {'id': 26586554,\n",
       "  'name': 'README.md',\n",
       "  'size': 5422,\n",
       "  'is_link_only': False,\n",
       "  'download_url': 'https://ndownloader.figshare.com/files/26586554',\n",
       "  'supplied_md5': '61858c6cc0e6a6d6663a7e4c75bbd88c',\n",
       "  'computed_md5': '61858c6cc0e6a6d6663a7e4c75bbd88c'},\n",
       " {'id': 26766812,\n",
       "  'name': 'data.zip',\n",
       "  'size': 814041183,\n",
       "  'is_link_only': False,\n",
       "  'download_url': 'https://ndownloader.figshare.com/files/26766812',\n",
       "  'supplied_md5': 'b517383f76e77bd03755a63a8ff83ee9',\n",
       "  'computed_md5': 'b517383f76e77bd03755a63a8ff83ee9'},\n",
       " {'id': 26766815,\n",
       "  'name': 'get_data.py',\n",
       "  'size': 4113,\n",
       "  'is_link_only': False,\n",
       "  'download_url': 'https://ndownloader.figshare.com/files/26766815',\n",
       "  'supplied_md5': '7829028495fd9dec9680ea013474afa6',\n",
       "  'computed_md5': '7829028495fd9dec9680ea013474afa6'}]"
      ]
     },
     "execution_count": 4,
     "metadata": {},
     "output_type": "execute_result"
    }
   ],
   "source": [
    "# GET request\n",
    "\n",
    "response = requests.request(\"GET\", url, headers=headers)\n",
    "data = json.loads(response.text)\n",
    "files = data[\"files\"]\n",
    "files"
   ]
  },
  {
   "cell_type": "markdown",
   "metadata": {},
   "source": [
    "- Now, download the file `data.zip`"
   ]
  },
  {
   "cell_type": "code",
   "execution_count": 5,
   "metadata": {},
   "outputs": [
    {
     "name": "stdout",
     "output_type": "stream",
     "text": [
      "CPU times: user 2.87 s, sys: 3.21 s, total: 6.08 s\n",
      "Wall time: 42.6 s\n"
     ]
    }
   ],
   "source": [
    "%%time\n",
    "files_to_dl = [\"data.zip\"]\n",
    "for file in files:\n",
    "    if file[\"name\"] in files_to_dl:\n",
    "        os.makedirs(output_directory, exist_ok=True)\n",
    "        # Download data.zip\n",
    "        urlretrieve(file[\"download_url\"], output_directory + \"/\" + file[\"name\"])"
   ]
  },
  {
   "cell_type": "code",
   "execution_count": 6,
   "metadata": {},
   "outputs": [
    {
     "name": "stdout",
     "output_type": "stream",
     "text": [
      "CPU times: user 12.5 s, sys: 1.86 s, total: 14.3 s\n",
      "Wall time: 14.7 s\n"
     ]
    }
   ],
   "source": [
    "%%time\n",
    "# Unzip the files\n",
    "with zipfile.ZipFile(os.path.join(output_directory, \"data.zip\"), \"r\") as f:\n",
    "    f.extractall(output_directory)"
   ]
  },
  {
   "cell_type": "code",
   "execution_count": 7,
   "metadata": {},
   "outputs": [
    {
     "name": "stdout",
     "output_type": "stream",
     "text": [
      "total 12062744\n",
      "-rw-r--r--   1 lzung  staff  814041183 31 Mar 18:46 data.zip\n",
      "-rw-r--r--   1 lzung  staff   95376895 31 Mar 18:46 MPI-ESM-1-2-HAM_daily_rainfall_NSW.csv\n",
      "-rw-r--r--   1 lzung  staff   94960113 31 Mar 18:46 AWI-ESM-1-1-LR_daily_rainfall_NSW.csv\n",
      "-rw-r--r--   1 lzung  staff   82474546 31 Mar 18:46 NorESM2-LM_daily_rainfall_NSW.csv\n",
      "-rw-r--r--   1 lzung  staff  127613760 31 Mar 18:46 ACCESS-CM2_daily_rainfall_NSW.csv\n",
      "-rw-r--r--   1 lzung  staff  232118894 31 Mar 18:46 FGOALS-f3-L_daily_rainfall_NSW.csv\n",
      "-rw-r--r--   1 lzung  staff  330360682 31 Mar 18:46 CMCC-CM2-HR4_daily_rainfall_NSW.csv\n",
      "-rw-r--r--   1 lzung  staff  254009247 31 Mar 18:46 MRI-ESM2-0_daily_rainfall_NSW.csv\n",
      "-rw-r--r--   1 lzung  staff  235661418 31 Mar 18:46 GFDL-CM4_daily_rainfall_NSW.csv\n",
      "-rw-r--r--   1 lzung  staff  294260911 31 Mar 18:46 BCC-CSM2-MR_daily_rainfall_NSW.csv\n",
      "-rw-r--r--   1 lzung  staff  295768615 31 Mar 18:46 EC-Earth3-Veg-LR_daily_rainfall_NSW.csv\n",
      "-rw-r--r--   1 lzung  staff  328852379 31 Mar 18:46 CMCC-ESM2_daily_rainfall_NSW.csv\n",
      "-rw-r--r--   1 lzung  staff   67784105 31 Mar 18:46 NESM3_daily_rainfall_NSW.csv\n",
      "-rw-r--r--   1 lzung  staff   95640682 31 Mar 18:46 MPI-ESM1-2-LR_daily_rainfall_NSW.csv\n",
      "-rw-r--r--   1 lzung  staff  114707410 31 Mar 18:46 ACCESS-ESM1-5_daily_rainfall_NSW.csv\n",
      "-rw-r--r--   1 lzung  staff  116179272 31 Mar 18:46 FGOALS-g3_daily_rainfall_NSW.csv\n",
      "-rw-r--r--   1 lzung  staff  102517965 31 Mar 18:46 INM-CM4-8_daily_rainfall_NSW.csv\n",
      "-rw-r--r--   1 lzung  staff  515458033 31 Mar 18:46 MPI-ESM1-2-HR_daily_rainfall_NSW.csv\n",
      "-rw-r--r--   1 lzung  staff  332813281 31 Mar 18:47 TaiESM1_daily_rainfall_NSW.csv\n",
      "-rw-r--r--   1 lzung  staff  337555851 31 Mar 18:47 NorESM2-MM_daily_rainfall_NSW.csv\n",
      "-rw-r--r--   1 lzung  staff  328787320 31 Mar 18:47 CMCC-CM2-SR5_daily_rainfall_NSW.csv\n",
      "-rw-r--r--   1 lzung  staff     952202 31 Mar 18:47 observed_daily_rainfall_SYD.csv\n",
      "-rw-r--r--   1 lzung  staff   93829697 31 Mar 18:47 KIOST-ESM_daily_rainfall_NSW.csv\n",
      "-rw-r--r--   1 lzung  staff  102692289 31 Mar 18:47 INM-CM5-0_daily_rainfall_NSW.csv\n",
      "-rw-r--r--   1 lzung  staff  206822938 31 Mar 18:47 MIROC6_daily_rainfall_NSW.csv\n",
      "-rw-r--r--   1 lzung  staff   55224437 31 Mar 18:47 BCC-ESM1_daily_rainfall_NSW.csv\n",
      "-rw-r--r--   1 lzung  staff  124586961 31 Mar 18:47 GFDL-ESM4_daily_rainfall_NSW.csv\n",
      "-rw-r--r--   1 lzung  staff   46286371 31 Mar 18:47 CanESM5_daily_rainfall_NSW.csv\n",
      "-rw-r--r--   1 lzung  staff  333489879 31 Mar 18:47 SAM0-UNICON_daily_rainfall_NSW.csv\n",
      "drwxr-xr-x  30 lzung  staff        960 31 Mar 18:47 \u001b[1m\u001b[34m__MACOSX\u001b[m\u001b[m/\n"
     ]
    }
   ],
   "source": [
    "# check all the file names\n",
    "%ls -ltr figshare-nswrain"
   ]
  },
  {
   "cell_type": "markdown",
   "metadata": {
    "tags": []
   },
   "source": [
    "# Part 4: Combine the Files with Python\n",
    "\n",
    "- Spencer Gerlach"
   ]
  },
  {
   "cell_type": "code",
   "execution_count": 8,
   "metadata": {
    "tags": []
   },
   "outputs": [
    {
     "data": {
      "text/html": [
       "<div>\n",
       "<style scoped>\n",
       "    .dataframe tbody tr th:only-of-type {\n",
       "        vertical-align: middle;\n",
       "    }\n",
       "\n",
       "    .dataframe tbody tr th {\n",
       "        vertical-align: top;\n",
       "    }\n",
       "\n",
       "    .dataframe thead th {\n",
       "        text-align: right;\n",
       "    }\n",
       "</style>\n",
       "<table border=\"1\" class=\"dataframe\">\n",
       "  <thead>\n",
       "    <tr style=\"text-align: right;\">\n",
       "      <th></th>\n",
       "      <th>time</th>\n",
       "      <th>lat_min</th>\n",
       "      <th>lat_max</th>\n",
       "      <th>lon_min</th>\n",
       "      <th>lon_max</th>\n",
       "      <th>rain (mm/day)</th>\n",
       "    </tr>\n",
       "  </thead>\n",
       "  <tbody>\n",
       "    <tr>\n",
       "      <th>0</th>\n",
       "      <td>1889-01-01 12:00:00</td>\n",
       "      <td>-35.439867</td>\n",
       "      <td>-33.574619</td>\n",
       "      <td>141.5625</td>\n",
       "      <td>143.4375</td>\n",
       "      <td>3.129635e-02</td>\n",
       "    </tr>\n",
       "    <tr>\n",
       "      <th>1</th>\n",
       "      <td>1889-01-02 12:00:00</td>\n",
       "      <td>-35.439867</td>\n",
       "      <td>-33.574619</td>\n",
       "      <td>141.5625</td>\n",
       "      <td>143.4375</td>\n",
       "      <td>1.083881e-13</td>\n",
       "    </tr>\n",
       "    <tr>\n",
       "      <th>2</th>\n",
       "      <td>1889-01-03 12:00:00</td>\n",
       "      <td>-35.439867</td>\n",
       "      <td>-33.574619</td>\n",
       "      <td>141.5625</td>\n",
       "      <td>143.4375</td>\n",
       "      <td>1.056313e-13</td>\n",
       "    </tr>\n",
       "    <tr>\n",
       "      <th>3</th>\n",
       "      <td>1889-01-04 12:00:00</td>\n",
       "      <td>-35.439867</td>\n",
       "      <td>-33.574619</td>\n",
       "      <td>141.5625</td>\n",
       "      <td>143.4375</td>\n",
       "      <td>1.080510e-13</td>\n",
       "    </tr>\n",
       "    <tr>\n",
       "      <th>4</th>\n",
       "      <td>1889-01-05 12:00:00</td>\n",
       "      <td>-35.439867</td>\n",
       "      <td>-33.574619</td>\n",
       "      <td>141.5625</td>\n",
       "      <td>143.4375</td>\n",
       "      <td>9.914916e-14</td>\n",
       "    </tr>\n",
       "  </tbody>\n",
       "</table>\n",
       "</div>"
      ],
      "text/plain": [
       "                  time    lat_min    lat_max   lon_min   lon_max  \\\n",
       "0  1889-01-01 12:00:00 -35.439867 -33.574619  141.5625  143.4375   \n",
       "1  1889-01-02 12:00:00 -35.439867 -33.574619  141.5625  143.4375   \n",
       "2  1889-01-03 12:00:00 -35.439867 -33.574619  141.5625  143.4375   \n",
       "3  1889-01-04 12:00:00 -35.439867 -33.574619  141.5625  143.4375   \n",
       "4  1889-01-05 12:00:00 -35.439867 -33.574619  141.5625  143.4375   \n",
       "\n",
       "   rain (mm/day)  \n",
       "0   3.129635e-02  \n",
       "1   1.083881e-13  \n",
       "2   1.056313e-13  \n",
       "3   1.080510e-13  \n",
       "4   9.914916e-14  "
      ]
     },
     "execution_count": 8,
     "metadata": {},
     "output_type": "execute_result"
    }
   ],
   "source": [
    "df_test = pd.read_csv(\"figshare-nswrain/AWI-ESM-1-1-LR_daily_rainfall_NSW.csv\")\n",
    "df_test.head()"
   ]
  },
  {
   "cell_type": "code",
   "execution_count": 9,
   "metadata": {
    "tags": []
   },
   "outputs": [
    {
     "data": {
      "text/html": [
       "<div>\n",
       "<style scoped>\n",
       "    .dataframe tbody tr th:only-of-type {\n",
       "        vertical-align: middle;\n",
       "    }\n",
       "\n",
       "    .dataframe tbody tr th {\n",
       "        vertical-align: top;\n",
       "    }\n",
       "\n",
       "    .dataframe thead th {\n",
       "        text-align: right;\n",
       "    }\n",
       "</style>\n",
       "<table border=\"1\" class=\"dataframe\">\n",
       "  <thead>\n",
       "    <tr style=\"text-align: right;\">\n",
       "      <th></th>\n",
       "      <th>time</th>\n",
       "      <th>lat_min</th>\n",
       "      <th>lat_max</th>\n",
       "      <th>lon_min</th>\n",
       "      <th>lon_max</th>\n",
       "      <th>rain (mm/day)</th>\n",
       "    </tr>\n",
       "  </thead>\n",
       "  <tbody>\n",
       "    <tr>\n",
       "      <th>0</th>\n",
       "      <td>1889-01-01 12:00:00</td>\n",
       "      <td>-36.25</td>\n",
       "      <td>-35.0</td>\n",
       "      <td>140.625</td>\n",
       "      <td>142.5</td>\n",
       "      <td>3.293256e-13</td>\n",
       "    </tr>\n",
       "    <tr>\n",
       "      <th>1</th>\n",
       "      <td>1889-01-02 12:00:00</td>\n",
       "      <td>-36.25</td>\n",
       "      <td>-35.0</td>\n",
       "      <td>140.625</td>\n",
       "      <td>142.5</td>\n",
       "      <td>0.000000e+00</td>\n",
       "    </tr>\n",
       "    <tr>\n",
       "      <th>2</th>\n",
       "      <td>1889-01-03 12:00:00</td>\n",
       "      <td>-36.25</td>\n",
       "      <td>-35.0</td>\n",
       "      <td>140.625</td>\n",
       "      <td>142.5</td>\n",
       "      <td>0.000000e+00</td>\n",
       "    </tr>\n",
       "    <tr>\n",
       "      <th>3</th>\n",
       "      <td>1889-01-04 12:00:00</td>\n",
       "      <td>-36.25</td>\n",
       "      <td>-35.0</td>\n",
       "      <td>140.625</td>\n",
       "      <td>142.5</td>\n",
       "      <td>0.000000e+00</td>\n",
       "    </tr>\n",
       "    <tr>\n",
       "      <th>4</th>\n",
       "      <td>1889-01-05 12:00:00</td>\n",
       "      <td>-36.25</td>\n",
       "      <td>-35.0</td>\n",
       "      <td>140.625</td>\n",
       "      <td>142.5</td>\n",
       "      <td>1.047658e-02</td>\n",
       "    </tr>\n",
       "  </tbody>\n",
       "</table>\n",
       "</div>"
      ],
      "text/plain": [
       "                  time  lat_min  lat_max  lon_min  lon_max  rain (mm/day)\n",
       "0  1889-01-01 12:00:00   -36.25    -35.0  140.625    142.5   3.293256e-13\n",
       "1  1889-01-02 12:00:00   -36.25    -35.0  140.625    142.5   0.000000e+00\n",
       "2  1889-01-03 12:00:00   -36.25    -35.0  140.625    142.5   0.000000e+00\n",
       "3  1889-01-04 12:00:00   -36.25    -35.0  140.625    142.5   0.000000e+00\n",
       "4  1889-01-05 12:00:00   -36.25    -35.0  140.625    142.5   1.047658e-02"
      ]
     },
     "execution_count": 9,
     "metadata": {},
     "output_type": "execute_result"
    }
   ],
   "source": [
    "df_test2 = pd.read_csv(\"figshare-nswrain/ACCESS-CM2_daily_rainfall_NSW.csv\")\n",
    "df_test2.head()"
   ]
  },
  {
   "cell_type": "markdown",
   "metadata": {},
   "source": [
    "- From these results, we can now proceed with reading and combining all CSVs (except `observed_daily_rainfall_SYD.csv`).\n",
    "\n",
    "- Use columns from the test CSVs above"
   ]
  },
  {
   "cell_type": "code",
   "execution_count": 10,
   "metadata": {
    "tags": []
   },
   "outputs": [
    {
     "name": "stdout",
     "output_type": "stream",
     "text": [
      "CPU times: user 6min, sys: 14.6 s, total: 6min 14s\n",
      "Wall time: 6min 15s\n"
     ]
    }
   ],
   "source": [
    "%%time\n",
    "# Combine into one CSV\n",
    "files = glob.glob('figshare-nswrain/*.csv') \n",
    "\n",
    "# Manually removed observed_daily_rainfall_SYD.csv from the data folder\n",
    "df = pd.concat((pd.read_csv(file).assign(model=re.findall(\"/([^_]*)\", file)[0]) for file in files))\n",
    "\n",
    "df.to_csv(\"figshare-nswrain/combined_data.csv\") # Use relative path"
   ]
  },
  {
   "cell_type": "markdown",
   "metadata": {
    "jp-MarkdownHeadingCollapsed": true,
    "tags": []
   },
   "source": [
    "### Part 4: Time Taken to Combine CSV files\n",
    "\n",
    "| Team Member | Operating System | RAM | Processor | Is SSD | Time Taken |\n",
    "|-------------|------------------|-----|-----------|--------|------------|\n",
    "|  Spencer    |   MacOS 12.6     |  8  | intel i5  |   Yes  |  16m 5s    |\n",
    "|  Xinru      |   MacOS 13.2     | 16  | Apple M2  |   Yes  |  3m 50s    |\n",
    "|  Lauren     |   MacOS 13.2     | 16  | Apple M2  |   Yes  |  6m 15s    |\n",
    "\n",
    "> It seems that the M2 processor is significantly faster than the Intel i5 when combining CSV files, reducing the wait time by almost 10 minutes. There were differences between both M2 systems despite identical specs which is likely due to the number of parallel applications running on our machines."
   ]
  },
  {
   "cell_type": "markdown",
   "metadata": {
    "tags": []
   },
   "source": [
    "# Part 5: Load the combined CSV to memory and perform a simple EDA\n",
    "\n",
    "- Xinru Lu\n",
    "\n",
    "1. Load just columns that we want\n",
    "2. Changing dtype of the data"
   ]
  },
  {
   "cell_type": "code",
   "execution_count": 11,
   "metadata": {
    "tags": []
   },
   "outputs": [],
   "source": [
    "import numpy as np\n",
    "\n",
    "# local path to combined data (to be updated per user)\n",
    "combined_data_path = 'figshare-nswrain/combined_data.csv'\n",
    "\n",
    "# define column dtypes and columns to load\n",
    "column_dtype = {'lat_min': np.float32, 'lat_max': np.float32, 'lon_min': np.float32, 'lon_max': np.float32, 'model': str}\n",
    "use_columns = ['time', 'lat_min', 'lat_max', 'lon_min', 'lon_max', 'rain (mm/day)', 'model']"
   ]
  },
  {
   "cell_type": "code",
   "execution_count": 12,
   "metadata": {},
   "outputs": [
    {
     "name": "stdout",
     "output_type": "stream",
     "text": [
      "            lat_min       lat_max       lon_min       lon_max\n",
      "count  5.924854e+07  6.246784e+07  5.924854e+07  6.246784e+07\n",
      "mean  -3.310482e+01 -3.197757e+01  1.469059e+02  1.482150e+02\n",
      "std    1.963549e+00  1.992067e+00  3.793784e+00  3.809994e+00\n",
      "min   -3.646739e+01 -3.600000e+01  1.406250e+02  1.412500e+02\n",
      "25%   -3.486911e+01 -3.366221e+01  1.434375e+02  1.450000e+02\n",
      "50%   -3.300000e+01 -3.204188e+01  1.468750e+02  1.481250e+02\n",
      "75%   -3.140170e+01 -3.015707e+01  1.501875e+02  1.513125e+02\n",
      "max   -2.990000e+01 -2.790606e+01  1.537500e+02  1.556250e+02\n",
      "CPU times: user 1min 8s, sys: 15.6 s, total: 1min 24s\n",
      "Wall time: 1min 29s\n"
     ]
    }
   ],
   "source": [
    "%%time\n",
    "\n",
    "# Load combined CSV by loading only relevant columns\n",
    "df = pd.read_csv(combined_data_path, parse_dates=['time'], usecols=use_columns)\n",
    "print(df[['lat_min', 'lat_max', 'lon_min', 'lon_max']].describe())"
   ]
  },
  {
   "cell_type": "code",
   "execution_count": 13,
   "metadata": {
    "tags": []
   },
   "outputs": [
    {
     "name": "stdout",
     "output_type": "stream",
     "text": [
      "            lat_min       lat_max       lon_min       lon_max\n",
      "count  5.924854e+07  6.246784e+07  5.924854e+07  6.246784e+07\n",
      "mean  -3.310497e+01 -3.197765e+01  1.469058e+02  1.482150e+02\n",
      "std    1.963549e+00  1.992067e+00  3.793784e+00  3.809994e+00\n",
      "min   -3.646739e+01 -3.600000e+01  1.406250e+02  1.412500e+02\n",
      "25%   -3.486911e+01 -3.366221e+01  1.434375e+02  1.450000e+02\n",
      "50%   -3.300000e+01 -3.204189e+01  1.468750e+02  1.481250e+02\n",
      "75%   -3.140170e+01 -3.015707e+01  1.501875e+02  1.513125e+02\n",
      "max   -2.990000e+01 -2.790606e+01  1.537500e+02  1.556250e+02\n",
      "CPU times: user 1min 5s, sys: 10.2 s, total: 1min 16s\n",
      "Wall time: 1min 17s\n"
     ]
    }
   ],
   "source": [
    "%%time\n",
    "\n",
    "# Load combined CSV by changing data type\n",
    "df = pd.read_csv(combined_data_path, dtype=column_dtype, parse_dates=['time'])\n",
    "print(df[['lat_min', 'lat_max', 'lon_min', 'lon_max']].describe())"
   ]
  },
  {
   "cell_type": "markdown",
   "metadata": {
    "tags": []
   },
   "source": [
    "### Part 5: Time Taken to Load CSV files\n",
    "\n",
    "**Loading only relevant columns**\n",
    "| Team Member | Operating System | RAM | Processor | Is SSD | Time Taken |\n",
    "|-------------|------------------|-----|-----------|--------|------------|\n",
    "|  Spencer    |   MacOS 12.6     |  8  | intel i5  |   Yes  |       |\n",
    "|  Xinru      |   MacOS 13.2     | 16  | Apple M2  |   Yes  |      |\n",
    "|  Lauren     |   MacOS 13.2     | 16  | Apple M2  |   Yes  |  1m 29s    |\n",
    "\n",
    "**Changing dtype**\n",
    "| Team Member | Operating System | RAM | Processor | Is SSD | Time Taken |\n",
    "|-------------|------------------|-----|-----------|--------|------------|\n",
    "|  Spencer    |   MacOS 12.6     |  8  | intel i5  |   Yes  |       |\n",
    "|  Xinru      |   MacOS 13.2     | 16  | Apple M2  |   Yes  |      |\n",
    "|  Lauren     |   MacOS 13.2     | 16  | Apple M2  |   Yes  |  1m 17s    |\n",
    "\n",
    "> [insert description here]"
   ]
  },
  {
   "cell_type": "markdown",
   "metadata": {
    "tags": []
   },
   "source": [
    "# Part 6: Perform a simple EDA in R\n",
    "\n",
    "- Lauren Zung\n",
    "\n",
    "We would use **Arrow exchange** since it helps with minimizing the time-consuming serialization/deserialization process by reading data in parallel/chunks."
   ]
  },
  {
   "cell_type": "code",
   "execution_count": 14,
   "metadata": {
    "tags": []
   },
   "outputs": [],
   "source": [
    "%load_ext rpy2.ipython"
   ]
  },
  {
   "cell_type": "code",
   "execution_count": 21,
   "metadata": {
    "tags": []
   },
   "outputs": [],
   "source": [
    "import pyarrow.dataset as ds\n",
    "import pyarrow as pa\n",
    "import pandas as pd\n",
    "import pyarrow \n",
    "from pyarrow import csv\n",
    "import rpy2_arrow.pyarrow_rarrow as pyra"
   ]
  },
  {
   "cell_type": "code",
   "execution_count": 45,
   "metadata": {},
   "outputs": [],
   "source": [
    "filepathcsv = \"figshare-nswrain/combined_data.csv\""
   ]
  },
  {
   "cell_type": "code",
   "execution_count": 46,
   "metadata": {},
   "outputs": [
    {
     "name": "stdout",
     "output_type": "stream",
     "text": [
      "CPU times: user 20.4 s, sys: 1.72 s, total: 22.1 s\n",
      "Wall time: 21.1 s\n"
     ]
    }
   ],
   "source": [
    "%%time\n",
    "dataset = ds.dataset(filepathcsv, format=\"csv\")\n",
    "\n",
    "# Converting the `pyarrow dataset` to a `pyarrow table`\n",
    "table = dataset.to_table()\n",
    "\n",
    "# Converting a `pyarrow table` to a `rarrow table`\n",
    "r_table = pyra.converter.py2rpy(table)"
   ]
  },
  {
   "cell_type": "code",
   "execution_count": 74,
   "metadata": {},
   "outputs": [
    {
     "name": "stdout",
     "output_type": "stream",
     "text": [
      "# A tibble: 62,513,863 × 6\n",
      "   lat_min lat_max lon_min lon_max `rain (mm/day)` model          \n",
      "     <dbl>   <dbl>   <dbl>   <dbl>           <dbl> <chr>          \n",
      " 1   -35.4   -33.6    142.    143.        4.24e-13 MPI-ESM-1-2-HAM\n",
      " 2   -35.4   -33.6    142.    143.        4.22e-13 MPI-ESM-1-2-HAM\n",
      " 3   -35.4   -33.6    142.    143.        4.50e-13 MPI-ESM-1-2-HAM\n",
      " 4   -35.4   -33.6    142.    143.        4.25e-13 MPI-ESM-1-2-HAM\n",
      " 5   -35.4   -33.6    142.    143.        4.27e-13 MPI-ESM-1-2-HAM\n",
      " 6   -35.4   -33.6    142.    143.        4.20e-13 MPI-ESM-1-2-HAM\n",
      " 7   -35.4   -33.6    142.    143.        4.19e-13 MPI-ESM-1-2-HAM\n",
      " 8   -35.4   -33.6    142.    143.        4.56e-13 MPI-ESM-1-2-HAM\n",
      " 9   -35.4   -33.6    142.    143.        2.53e+ 0 MPI-ESM-1-2-HAM\n",
      "10   -35.4   -33.6    142.    143.        4.12e- 2 MPI-ESM-1-2-HAM\n",
      "# ℹ 62,513,853 more rows\n",
      "# ℹ Use `print(n = ...)` to see more rows\n"
     ]
    }
   ],
   "source": [
    "%%R -i r_table\n",
    "suppressMessages(library(dplyr))\n",
    "\n",
    "result <- r_table |>\n",
    "    select(lat_min, lat_max, lon_min, lon_max, `rain (mm/day)`, model) |>\n",
    "    collect()\n",
    "\n",
    "print(result)"
   ]
  },
  {
   "cell_type": "code",
   "execution_count": 76,
   "metadata": {},
   "outputs": [
    {
     "name": "stdout",
     "output_type": "stream",
     "text": [
      "# A tibble: 28 × 2\n",
      "   model            avg_rainfall\n",
      "   <chr>                   <dbl>\n",
      " 1 ACCESS-CM2               1.79\n",
      " 2 ACCESS-ESM1-5            2.22\n",
      " 3 AWI-ESM-1-1-LR           2.03\n",
      " 4 BCC-CSM2-MR              1.95\n",
      " 5 BCC-ESM1                 1.81\n",
      " 6 CMCC-CM2-HR4             2.28\n",
      " 7 CMCC-CM2-SR5             2.38\n",
      " 8 CMCC-ESM2                2.27\n",
      " 9 CanESM5                  1.89\n",
      "10 EC-Earth3-Veg-LR         1.52\n",
      "# ℹ 18 more rows\n",
      "# ℹ Use `print(n = ...)` to see more rows\n",
      "Time difference of 6.499636 secs\n",
      "CPU times: user 4.96 s, sys: 1.23 s, total: 6.19 s\n",
      "Wall time: 6.51 s\n"
     ]
    }
   ],
   "source": [
    "%%time\n",
    "%%R -i r_table\n",
    "start_time <- Sys.time()\n",
    "suppressMessages(library(dplyr))\n",
    "\n",
    "result <- r_table |>\n",
    "    select(lat_min, lat_max, lon_min, lon_max, `rain (mm/day)`, model) |>\n",
    "    collect() |>\n",
    "    group_by(model) |>\n",
    "    summarize(avg_rainfall = mean(`rain (mm/day)`))\n",
    "\n",
    "print(result)\n",
    "end_time <- Sys.time()\n",
    "print(end_time - start_time)"
   ]
  },
  {
   "cell_type": "markdown",
   "metadata": {},
   "source": [
    "## Challenges While Dealing with Large Data"
   ]
  },
  {
   "cell_type": "code",
   "execution_count": null,
   "metadata": {},
   "outputs": [],
   "source": []
  }
 ],
 "metadata": {
  "kernelspec": {
   "display_name": "Python [conda env:525_2023]",
   "language": "python",
   "name": "conda-env-525_2023-py"
  },
  "language_info": {
   "codemirror_mode": {
    "name": "ipython",
    "version": 3
   },
   "file_extension": ".py",
   "mimetype": "text/x-python",
   "name": "python",
   "nbconvert_exporter": "python",
   "pygments_lexer": "ipython3",
   "version": "3.10.10"
  }
 },
 "nbformat": 4,
 "nbformat_minor": 4
}

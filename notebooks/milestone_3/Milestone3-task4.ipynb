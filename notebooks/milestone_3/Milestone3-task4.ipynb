{
 "cells": [
  {
   "cell_type": "markdown",
   "metadata": {},
   "source": [
    "# Task 4 (Guided Exercise)"
   ]
  },
  {
   "cell_type": "markdown",
   "metadata": {},
   "source": [
    "This notebook is part of Milestone 3, Question 4, and is a guided exercise. I have included guidelines and helpful links (as comments) along with this notebook to guide you through the exercise. Daniel's tutorial will also be helpful, but even if you haven't completed it, you should be able to finish this exercise with the help of the links and guidelines provided here. \n",
    "\n",
    "For some of you, this may be the first time exploring a package independently using documentation, so it might take some time to get used to it. But with practice, you will get better at it. At work, you may come across many packages that you have never used before, and you will have to learn them on your own. So, this is a good practice to get used to it.\n",
    "\n",
    "In this exercise, you will use Spark's MLlib. The idea is to tune some hyperparameters of a Random Forest to find the optimum model. Once you know the optimum settings, you will train a Random Forest in sklearn (`Milestone3-task3.ipynb` part 2) and save it with joblib (`Milestone3-task3.ipynb` part 2) so that you can use it next week to deploy.\n",
    "\n",
    "Here, consider MLlib as another Python package that you are using, like scikit-learn. You will see many scikit-learn similar classes and methods available in MLlib for various ML-related tasks. You may also notice that some of them are not yet implemented in MLlib. What you write using the PySpark package will use the spark engine to run your code, and hence, all the benefits of distributed computing that we discussed in class.\n",
    "\n",
    "Note: Whenever you use Spark, make sure that you refer to the right documentation based on the version you are using. You can select the version of Spark from [here](https://spark.apache.org/docs/)  and go to the correct documentation. In our case, we are using Spark 3.3.1, and here is the link to the Spark documentation that you can refer to:\n",
    "\n",
    "- [MLlib Documentation](https://spark.apache.org/docs/3.3.1/ml-guide.html)\n",
    "- [MLlib API Reference](https://spark.apache.org/docs/3.3.1/api/python/reference/pyspark.ml.html)\n",
    "\n",
    "You may notice that there are RDD-based API and DataFrame-based (Main Guide) API available in the documentation. You want to focus on DataFrame-based API as no one uses RDD-based API these days. We will discuss the difference in class.\n",
    "\n",
    "Before you start this notebook, make sure that you setup your EMR notebooks, uploaded this notebook there, and the kernel you selected is PySpark."
   ]
  },
  {
   "cell_type": "markdown",
   "metadata": {},
   "source": [
    "## Install packages\n",
    "\n",
    "You only want to install following packages for this exercise:"
   ]
  },
  {
   "cell_type": "code",
   "execution_count": 1,
   "metadata": {
    "execution": {
     "iopub.execute_input": "2023-04-18T22:27:29.659952Z",
     "iopub.status.busy": "2023-04-18T22:27:29.659631Z",
     "iopub.status.idle": "2023-04-18T22:28:25.562462Z",
     "shell.execute_reply": "2023-04-18T22:28:25.561845Z",
     "shell.execute_reply.started": "2023-04-18T22:27:29.659922Z"
    },
    "tags": []
   },
   "outputs": [
    {
     "data": {
      "application/vnd.jupyter.widget-view+json": {
       "model_id": "abfae1e5b51346e6bf488cfe35ef2b31",
       "version_major": 2,
       "version_minor": 0
      },
      "text/plain": [
       "VBox()"
      ]
     },
     "metadata": {},
     "output_type": "display_data"
    },
    {
     "name": "stdout",
     "output_type": "stream",
     "text": [
      "Starting Spark application\n"
     ]
    },
    {
     "data": {
      "text/html": [
       "<table>\n",
       "<tr><th>ID</th><th>YARN Application ID</th><th>Kind</th><th>State</th><th>Spark UI</th><th>Driver log</th><th>User</th><th>Current session?</th></tr><tr><td>5</td><td>application_1681853698928_0005</td><td>pyspark</td><td>idle</td><td><a target=\"_blank\" href=\"http://ip-172-31-25-153.us-west-2.compute.internal:20888/proxy/application_1681853698928_0005/\" class=\"emr-proxy-link\" emr-resource=\"j-1O1778Z68RFDY\n",
       "\" application-id=\"application_1681853698928_0005\">Link</a></td><td><a target=\"_blank\" href=\"http://ip-172-31-25-153.us-west-2.compute.internal:8042/node/containerlogs/container_1681853698928_0005_01_000001/livy\" >Link</a></td><td>None</td><td>✔</td></tr></table>"
      ],
      "text/plain": [
       "<IPython.core.display.HTML object>"
      ]
     },
     "metadata": {},
     "output_type": "display_data"
    },
    {
     "data": {
      "application/vnd.jupyter.widget-view+json": {
       "model_id": "",
       "version_major": 2,
       "version_minor": 0
      },
      "text/plain": [
       "FloatProgress(value=0.0, bar_style='info', description='Progress:', layout=Layout(height='25px', width='50%'),…"
      ]
     },
     "metadata": {},
     "output_type": "display_data"
    },
    {
     "name": "stdout",
     "output_type": "stream",
     "text": [
      "SparkSession available as 'spark'.\n"
     ]
    },
    {
     "data": {
      "application/vnd.jupyter.widget-view+json": {
       "model_id": "",
       "version_major": 2,
       "version_minor": 0
      },
      "text/plain": [
       "FloatProgress(value=0.0, bar_style='info', description='Progress:', layout=Layout(height='25px', width='50%'),…"
      ]
     },
     "metadata": {},
     "output_type": "display_data"
    },
    {
     "name": "stdout",
     "output_type": "stream",
     "text": [
      "Collecting pandas\n",
      "  Downloading pandas-1.3.5-cp37-cp37m-manylinux_2_17_x86_64.manylinux2014_x86_64.whl (11.3 MB)\n",
      "Collecting python-dateutil>=2.7.3\n",
      "  Downloading python_dateutil-2.8.2-py2.py3-none-any.whl (247 kB)\n",
      "Requirement already satisfied: numpy>=1.17.3; platform_machine != \"aarch64\" and platform_machine != \"arm64\" and python_version < \"3.10\" in /usr/local/lib64/python3.7/site-packages (from pandas) (1.20.0)\n",
      "Requirement already satisfied: pytz>=2017.3 in /usr/local/lib/python3.7/site-packages (from pandas) (2022.7)\n",
      "Requirement already satisfied: six>=1.5 in /usr/local/lib/python3.7/site-packages (from python-dateutil>=2.7.3->pandas) (1.13.0)\n",
      "Installing collected packages: python-dateutil, pandas\n",
      "Successfully installed pandas-1.3.5 python-dateutil-2.8.2\n",
      "\n",
      "Collecting s3fs\n",
      "  Downloading s3fs-2023.1.0-py3-none-any.whl (27 kB)\n",
      "Collecting aiohttp!=4.0.0a0,!=4.0.0a1\n",
      "  Downloading aiohttp-3.8.4-cp37-cp37m-manylinux_2_17_x86_64.manylinux2014_x86_64.whl (948 kB)\n",
      "Collecting aiobotocore~=2.4.2\n",
      "  Downloading aiobotocore-2.4.2-py3-none-any.whl (66 kB)\n",
      "Collecting fsspec==2023.1.0\n",
      "  Downloading fsspec-2023.1.0-py3-none-any.whl (143 kB)\n",
      "Collecting typing-extensions>=3.7.4; python_version < \"3.8\"\n",
      "  Downloading typing_extensions-4.5.0-py3-none-any.whl (27 kB)\n",
      "Collecting aiosignal>=1.1.2\n",
      "  Downloading aiosignal-1.3.1-py3-none-any.whl (7.6 kB)\n",
      "Collecting frozenlist>=1.1.1\n",
      "  Downloading frozenlist-1.3.3-cp37-cp37m-manylinux_2_5_x86_64.manylinux1_x86_64.manylinux_2_17_x86_64.manylinux2014_x86_64.whl (148 kB)\n",
      "Collecting async-timeout<5.0,>=4.0.0a3\n",
      "  Downloading async_timeout-4.0.2-py3-none-any.whl (5.8 kB)\n",
      "Collecting multidict<7.0,>=4.5\n",
      "  Downloading multidict-6.0.4-cp37-cp37m-manylinux_2_17_x86_64.manylinux2014_x86_64.whl (94 kB)\n",
      "Collecting asynctest==0.13.0; python_version < \"3.8\"\n",
      "  Downloading asynctest-0.13.0-py3-none-any.whl (26 kB)\n",
      "Collecting attrs>=17.3.0\n",
      "  Downloading attrs-23.1.0-py3-none-any.whl (61 kB)\n",
      "Collecting charset-normalizer<4.0,>=2.0\n",
      "  Downloading charset_normalizer-3.1.0-cp37-cp37m-manylinux_2_17_x86_64.manylinux2014_x86_64.whl (171 kB)\n",
      "Collecting yarl<2.0,>=1.0\n",
      "  Downloading yarl-1.8.2-cp37-cp37m-manylinux_2_17_x86_64.manylinux2014_x86_64.whl (231 kB)\n",
      "Collecting botocore<1.27.60,>=1.27.59\n",
      "  Downloading botocore-1.27.59-py3-none-any.whl (9.1 MB)\n",
      "Collecting aioitertools>=0.5.1\n",
      "  Downloading aioitertools-0.11.0-py3-none-any.whl (23 kB)\n",
      "Collecting wrapt>=1.10.10\n",
      "  Downloading wrapt-1.15.0-cp37-cp37m-manylinux_2_5_x86_64.manylinux1_x86_64.manylinux_2_17_x86_64.manylinux2014_x86_64.whl (75 kB)\n",
      "Collecting importlib-metadata; python_version < \"3.8\"\n",
      "  Downloading importlib_metadata-6.5.0-py3-none-any.whl (22 kB)\n",
      "Collecting idna>=2.0\n",
      "  Downloading idna-3.4-py3-none-any.whl (61 kB)\n",
      "Requirement already satisfied: jmespath<2.0.0,>=0.7.1 in /usr/local/lib/python3.7/site-packages (from botocore<1.27.60,>=1.27.59->aiobotocore~=2.4.2->s3fs) (1.0.1)\n",
      "Collecting urllib3<1.27,>=1.25.4\n",
      "  Downloading urllib3-1.26.15-py2.py3-none-any.whl (140 kB)\n",
      "Requirement already satisfied: python-dateutil<3.0.0,>=2.1 in ./tmp/1681856875000-0/lib/python3.7/site-packages (from botocore<1.27.60,>=1.27.59->aiobotocore~=2.4.2->s3fs) (2.8.2)\n",
      "Collecting zipp>=0.5\n",
      "  Downloading zipp-3.15.0-py3-none-any.whl (6.8 kB)\n",
      "Requirement already satisfied: six>=1.5 in /usr/local/lib/python3.7/site-packages (from python-dateutil<3.0.0,>=2.1->botocore<1.27.60,>=1.27.59->aiobotocore~=2.4.2->s3fs) (1.13.0)\n",
      "Installing collected packages: typing-extensions, frozenlist, aiosignal, async-timeout, multidict, asynctest, zipp, importlib-metadata, attrs, charset-normalizer, idna, yarl, aiohttp, urllib3, botocore, aioitertools, wrapt, aiobotocore, fsspec, s3fs\n",
      "Successfully installed aiobotocore-2.4.2 aiohttp-3.8.4 aioitertools-0.11.0 aiosignal-1.3.1 async-timeout-4.0.2 asynctest-0.13.0 attrs-23.1.0 botocore-1.27.59 charset-normalizer-3.1.0 frozenlist-1.3.3 fsspec-2023.1.0 idna-3.4 importlib-metadata-6.5.0 multidict-6.0.4 s3fs-2023.1.0 typing-extensions-4.5.0 urllib3-1.26.15 wrapt-1.15.0 yarl-1.8.2 zipp-3.15.0\n",
      "\n",
      "WARNING: The directory '/home/.cache/pip' or its parent directory is not owned or is not writable by the current user. The cache has been disabled. Check the permissions and owner of that directory. If executing pip with sudo, you may want sudo's -H flag.\n",
      "\n",
      "WARNING: The directory '/home/.cache/pip' or its parent directory is not owned or is not writable by the current user. The cache has been disabled. Check the permissions and owner of that directory. If executing pip with sudo, you may want sudo's -H flag."
     ]
    }
   ],
   "source": [
    "sc.install_pypi_package(\"pandas\")\n",
    "sc.install_pypi_package(\"s3fs\")"
   ]
  },
  {
   "cell_type": "markdown",
   "metadata": {},
   "source": [
    "## Import necessary libraries"
   ]
  },
  {
   "cell_type": "code",
   "execution_count": 2,
   "metadata": {
    "execution": {
     "iopub.execute_input": "2023-04-18T22:28:25.563751Z",
     "iopub.status.busy": "2023-04-18T22:28:25.563532Z",
     "iopub.status.idle": "2023-04-18T22:28:26.308995Z",
     "shell.execute_reply": "2023-04-18T22:28:26.308335Z",
     "shell.execute_reply.started": "2023-04-18T22:28:25.563729Z"
    },
    "tags": []
   },
   "outputs": [
    {
     "data": {
      "application/vnd.jupyter.widget-view+json": {
       "model_id": "5f35f0a64889491c9cc66a00b2ef038d",
       "version_major": 2,
       "version_minor": 0
      },
      "text/plain": [
       "VBox()"
      ]
     },
     "metadata": {},
     "output_type": "display_data"
    },
    {
     "data": {
      "application/vnd.jupyter.widget-view+json": {
       "model_id": "",
       "version_major": 2,
       "version_minor": 0
      },
      "text/plain": [
       "FloatProgress(value=0.0, bar_style='info', description='Progress:', layout=Layout(height='25px', width='50%'),…"
      ]
     },
     "metadata": {},
     "output_type": "display_data"
    }
   ],
   "source": [
    "from pyspark.ml import Pipeline\n",
    "from pyspark.context import SparkContext\n",
    "from pyspark.sql.session import SparkSession\n",
    "from pyspark.ml.feature import VectorAssembler, UnivariateFeatureSelector\n",
    "from pyspark.ml.evaluation import RegressionEvaluator\n",
    "from pyspark.ml.regression import RandomForestRegressor as sparkRFR\n",
    "from pyspark.ml.tuning import CrossValidator, ParamGridBuilder\n",
    "import pandas as pd"
   ]
  },
  {
   "cell_type": "markdown",
   "metadata": {},
   "source": [
    "## Read the data"
   ]
  },
  {
   "cell_type": "markdown",
   "metadata": {},
   "source": [
    "To start with; read 100 data points for development purpose. Once your code is ready you should try on the whole dataset."
   ]
  },
  {
   "cell_type": "code",
   "execution_count": 3,
   "metadata": {
    "execution": {
     "iopub.execute_input": "2023-04-18T22:28:26.310572Z",
     "iopub.status.busy": "2023-04-18T22:28:26.310344Z",
     "iopub.status.idle": "2023-04-18T22:28:28.563166Z",
     "shell.execute_reply": "2023-04-18T22:28:28.562488Z",
     "shell.execute_reply.started": "2023-04-18T22:28:26.310550Z"
    },
    "tags": []
   },
   "outputs": [
    {
     "data": {
      "application/vnd.jupyter.widget-view+json": {
       "model_id": "772ce05018cf48c1946a8d1f42a1492f",
       "version_major": 2,
       "version_minor": 0
      },
      "text/plain": [
       "VBox()"
      ]
     },
     "metadata": {},
     "output_type": "display_data"
    },
    {
     "data": {
      "application/vnd.jupyter.widget-view+json": {
       "model_id": "",
       "version_major": 2,
       "version_minor": 0
      },
      "text/plain": [
       "FloatProgress(value=0.0, bar_style='info', description='Progress:', layout=Layout(height='25px', width='50%'),…"
      ]
     },
     "metadata": {},
     "output_type": "display_data"
    }
   ],
   "source": [
    "## Remember by default it looks for credentials in home directory.\n",
    "## Makes sure your updated credentials are in home directory\n",
    "## Where this notebook is running? Clue: It is running on our master node. So you want to ssh into master node and update credentials there.\n",
    "## or pass credentials explicitly and pass as storage_options=aws_credentials (not a good idea)\n",
    "# aws_credentials = {\"key\": \"\",\"secret\": \"\",\"token\":\"\"}\n",
    "# replace with s3 path to your data\n",
    "## here 100 data points for testing the code,\n",
    "# pandas_df = pd.read_csv(\"s3://mds-s3-20-lauren/output/ml_data_SYD.csv\", index_col=0, parse_dates=True).iloc[:100].dropna()\n",
    "pandas_df = pd.read_csv(\"s3://mds-s3-20-lauren/output/ml_data_SYD.csv\",\n",
    "                        index_col=0,\n",
    "                        parse_dates=True).dropna()\n",
    "feature_cols = list(pandas_df.drop(columns=\"Observed\").columns)"
   ]
  },
  {
   "cell_type": "code",
   "execution_count": 4,
   "metadata": {
    "execution": {
     "iopub.execute_input": "2023-04-18T22:28:28.564620Z",
     "iopub.status.busy": "2023-04-18T22:28:28.564372Z",
     "iopub.status.idle": "2023-04-18T22:28:28.807095Z",
     "shell.execute_reply": "2023-04-18T22:28:28.806270Z",
     "shell.execute_reply.started": "2023-04-18T22:28:28.564589Z"
    },
    "tags": []
   },
   "outputs": [
    {
     "data": {
      "application/vnd.jupyter.widget-view+json": {
       "model_id": "9a07438713ef452cad35a4c63db012b6",
       "version_major": 2,
       "version_minor": 0
      },
      "text/plain": [
       "VBox()"
      ]
     },
     "metadata": {},
     "output_type": "display_data"
    },
    {
     "data": {
      "application/vnd.jupyter.widget-view+json": {
       "model_id": "",
       "version_major": 2,
       "version_minor": 0
      },
      "text/plain": [
       "FloatProgress(value=0.0, bar_style='info', description='Progress:', layout=Layout(height='25px', width='50%'),…"
      ]
     },
     "metadata": {},
     "output_type": "display_data"
    },
    {
     "name": "stdout",
     "output_type": "stream",
     "text": [
      "            ACCESS-CM2  ACCESS-ESM1-5  ...  SAM0-UNICON    TaiESM1\n",
      "time                                   ...                        \n",
      "1889-01-01    0.040427       1.814552  ...     0.221324   2.257933\n",
      "1889-01-02    0.073777       0.303965  ...     3.757179   2.287381\n",
      "1889-01-03    0.232656       0.019976  ...     0.253357   1.199909\n",
      "1889-01-04    0.911319      13.623777  ...     2.185454   2.106737\n",
      "1889-01-05    0.698013       0.021048  ...     2.766507   1.763335\n",
      "...                ...            ...  ...          ...        ...\n",
      "2014-12-27    0.033748       0.123476  ...     0.868046  17.444923\n",
      "2014-12-28    0.094198       2.645496  ...     0.782258   1.569647\n",
      "2014-12-29    0.005964       3.041667  ...     2.140723   1.444630\n",
      "2014-12-30    0.000028       1.131412  ...    29.714692   0.716019\n",
      "2014-12-31    0.532747       2.370896  ...    59.724062   3.240185\n",
      "\n",
      "[45989 rows x 26 columns]"
     ]
    }
   ],
   "source": [
    "pandas_df"
   ]
  },
  {
   "cell_type": "markdown",
   "metadata": {},
   "source": [
    "## Preparing dataset for ML"
   ]
  },
  {
   "cell_type": "code",
   "execution_count": 5,
   "metadata": {
    "execution": {
     "iopub.execute_input": "2023-04-18T22:28:28.808255Z",
     "iopub.status.busy": "2023-04-18T22:28:28.808043Z",
     "iopub.status.idle": "2023-04-18T22:28:40.087350Z",
     "shell.execute_reply": "2023-04-18T22:28:40.086656Z",
     "shell.execute_reply.started": "2023-04-18T22:28:28.808233Z"
    },
    "tags": []
   },
   "outputs": [
    {
     "data": {
      "application/vnd.jupyter.widget-view+json": {
       "model_id": "7ce752ad4b784edc9d875d1c4257851f",
       "version_major": 2,
       "version_minor": 0
      },
      "text/plain": [
       "VBox()"
      ]
     },
     "metadata": {},
     "output_type": "display_data"
    },
    {
     "data": {
      "application/vnd.jupyter.widget-view+json": {
       "model_id": "",
       "version_major": 2,
       "version_minor": 0
      },
      "text/plain": [
       "FloatProgress(value=0.0, bar_style='info', description='Progress:', layout=Layout(height='25px', width='50%'),…"
      ]
     },
     "metadata": {},
     "output_type": "display_data"
    }
   ],
   "source": [
    "# Load dataframe and coerce features into a single column called \"Features\"\n",
    "# This is a requirement of MLlib\n",
    "# Here we are converting your pandas dataframe to a spark dataframe,\n",
    "# Here \"spark\" is a spark session I will discuss in class.\n",
    "# It is automatically created for you in this notebook.\n",
    "# read more  here https://blog.knoldus.com/spark-createdataframe-vs-todf/\n",
    "training = spark.createDataFrame(pandas_df)\n",
    "assembler = VectorAssembler(inputCols=feature_cols, outputCol=\"Features\")\n",
    "training2 = assembler.transform(training).select(\"Features\", \"Observed\")"
   ]
  },
  {
   "cell_type": "code",
   "execution_count": 6,
   "metadata": {
    "execution": {
     "iopub.execute_input": "2023-04-18T22:28:40.088741Z",
     "iopub.status.busy": "2023-04-18T22:28:40.088511Z",
     "iopub.status.idle": "2023-04-18T22:28:40.331725Z",
     "shell.execute_reply": "2023-04-18T22:28:40.330893Z",
     "shell.execute_reply.started": "2023-04-18T22:28:40.088716Z"
    },
    "tags": []
   },
   "outputs": [
    {
     "data": {
      "application/vnd.jupyter.widget-view+json": {
       "model_id": "3beb0d0a89904c188d2f13fecf5d4696",
       "version_major": 2,
       "version_minor": 0
      },
      "text/plain": [
       "VBox()"
      ]
     },
     "metadata": {},
     "output_type": "display_data"
    },
    {
     "data": {
      "application/vnd.jupyter.widget-view+json": {
       "model_id": "",
       "version_major": 2,
       "version_minor": 0
      },
      "text/plain": [
       "FloatProgress(value=0.0, bar_style='info', description='Progress:', layout=Layout(height='25px', width='50%'),…"
      ]
     },
     "metadata": {},
     "output_type": "display_data"
    },
    {
     "name": "stdout",
     "output_type": "stream",
     "text": [
      "DataFrame[Features: vector, Observed: double]"
     ]
    }
   ],
   "source": [
    "training2"
   ]
  },
  {
   "cell_type": "markdown",
   "metadata": {},
   "source": [
    "## Find best hyperparameter settings"
   ]
  },
  {
   "cell_type": "markdown",
   "metadata": {},
   "source": [
    "Official Documentation of MLlib, Random forest regression [here](https://spark.apache.org/docs/3.3.1/ml-classification-regression.html#random-forest-regression).\n",
    "\n",
    "Here we will be mainly using following classes and methods;\n",
    "\n",
    "- [RandomForestRegressor](https://spark.apache.org/docs/latest/api/python/reference/api/pyspark.ml.regression.RandomForestRegressor.html)\n",
    "- [ParamGridBuilder](https://spark.apache.org/docs/latest/api/python/reference/api/pyspark.ml.tuning.ParamGridBuilder.html)\n",
    "    - addGrid\n",
    "    - build\n",
    "- [CrossValidator](https://spark.apache.org/docs/latest/api/python/reference/api/pyspark.ml.tuning.CrossValidator.html)\n",
    "    - fit\n",
    "\n",
    "Use these parameters for coming up with ideal parameters, you could try more parameters, but make sure you have enough power to do it. But you are required to try only following parameters. This will take around 15 min on entire dataset....\n",
    "\n",
    "    - Use numTrees as [10, 50,100]\n",
    "    - maxDepth as [5, 10]\n",
    "    - bootstrap as [False, True]\n",
    "    - In the CrossValidator use evaluator to be `RegressionEvaluator(labelCol=\"Observed\")`\n",
    "    \n",
    "***Additional reference:*** You can refer to [here](https://www.sparkitecture.io/machine-learning/regression/random-forest) and [here](https://www.silect.is/blog/random-forest-models-in-spark-ml/).\n",
    "\n",
    "Some additional reading [here](https://projector-video-pdf-converter.datacamp.com/14989/chapter4.pdf)"
   ]
  },
  {
   "cell_type": "code",
   "execution_count": 7,
   "metadata": {
    "execution": {
     "iopub.execute_input": "2023-04-18T22:28:40.333335Z",
     "iopub.status.busy": "2023-04-18T22:28:40.333009Z",
     "iopub.status.idle": "2023-04-18T22:34:14.182934Z",
     "shell.execute_reply": "2023-04-18T22:34:14.182328Z",
     "shell.execute_reply.started": "2023-04-18T22:28:40.333297Z"
    },
    "tags": []
   },
   "outputs": [
    {
     "data": {
      "application/vnd.jupyter.widget-view+json": {
       "model_id": "c18521de437646c8bcdfc7709fde3ac0",
       "version_major": 2,
       "version_minor": 0
      },
      "text/plain": [
       "VBox()"
      ]
     },
     "metadata": {},
     "output_type": "display_data"
    },
    {
     "data": {
      "application/vnd.jupyter.widget-view+json": {
       "model_id": "",
       "version_major": 2,
       "version_minor": 0
      },
      "text/plain": [
       "FloatProgress(value=0.0, bar_style='info', description='Progress:', layout=Layout(height='25px', width='50%'),…"
      ]
     },
     "metadata": {},
     "output_type": "display_data"
    }
   ],
   "source": [
    "##Once you finish testing the model on 100 data points, then load entire dataset and run , this could take ~15 min.\n",
    "## write code below.\n",
    "#\n",
    "# Construct RFR\n",
    "rf = sparkRFR(labelCol=\"Observed\", featuresCol=\"Features\")\n",
    "\n",
    "# Set up parameter grid\n",
    "rf_paramGrid = (ParamGridBuilder().addGrid(rf.numTrees, [10, 50, 100]).addGrid(\n",
    "    rf.maxDepth, [5, 10]).addGrid(rf.bootstrap, [False, True]).build())\n",
    "\n",
    "# Set-up evaluator\n",
    "rf_evaluator = RegressionEvaluator(labelCol=\"Observed\")\n",
    "\n",
    "# Set-up cross-validation pipeline\n",
    "cv = CrossValidator(estimator=rf,\n",
    "                    estimatorParamMaps=rf_paramGrid,\n",
    "                    evaluator=rf_evaluator,\n",
    "                    numFolds=5)\n",
    "\n",
    "# Run cross-validation\n",
    "cvModel = cv.fit(training2)"
   ]
  },
  {
   "cell_type": "code",
   "execution_count": 8,
   "metadata": {
    "execution": {
     "iopub.execute_input": "2023-04-18T22:34:14.184749Z",
     "iopub.status.busy": "2023-04-18T22:34:14.184530Z",
     "iopub.status.idle": "2023-04-18T22:34:14.225375Z",
     "shell.execute_reply": "2023-04-18T22:34:14.219660Z",
     "shell.execute_reply.started": "2023-04-18T22:34:14.184727Z"
    },
    "tags": []
   },
   "outputs": [
    {
     "data": {
      "application/vnd.jupyter.widget-view+json": {
       "model_id": "57e06e95195c4e88bcc928af74653962",
       "version_major": 2,
       "version_minor": 0
      },
      "text/plain": [
       "VBox()"
      ]
     },
     "metadata": {},
     "output_type": "display_data"
    },
    {
     "data": {
      "application/vnd.jupyter.widget-view+json": {
       "model_id": "",
       "version_major": 2,
       "version_minor": 0
      },
      "text/plain": [
       "FloatProgress(value=0.0, bar_style='info', description='Progress:', layout=Layout(height='25px', width='50%'),…"
      ]
     },
     "metadata": {},
     "output_type": "display_data"
    },
    {
     "name": "stdout",
     "output_type": "stream",
     "text": [
      "\n",
      "Best model\n",
      "==========\n",
      "\n",
      "CV Score: 8.18\n",
      "numTrees: 100\n",
      "maxDepth: 5\n",
      "bootstrap: True"
     ]
    }
   ],
   "source": [
    "# Print run info\n",
    "# cvModel is a variable that stores the best model obtained after performing cross-validation (crossval.fit(training))\n",
    "print(\"\\nBest model\")\n",
    "print(\"==========\")\n",
    "print(f\"\\nCV Score: {min(cvModel.avgMetrics):.2f}\")\n",
    "print(f\"numTrees: {cvModel.bestModel.getNumTrees}\")\n",
    "print(f\"maxDepth: {cvModel.bestModel.getMaxDepth()}\")\n",
    "print(f\"bootstrap: {cvModel.bestModel.getBootstrap()}\")"
   ]
  }
 ],
 "metadata": {
  "kernelspec": {
   "display_name": "PySpark",
   "language": "python",
   "name": "pysparkkernel"
  },
  "language_info": {
   "codemirror_mode": {
    "name": "python",
    "version": 3
   },
   "file_extension": ".py",
   "mimetype": "text/x-python",
   "name": "pyspark",
   "pygments_lexer": "python3"
  },
  "vscode": {
   "interpreter": {
    "hash": "6e9e0baa62560f8a3b402c12d339bdad33c58a25305700ec7e7682c0b6251f68"
   }
  }
 },
 "nbformat": 4,
 "nbformat_minor": 4
}

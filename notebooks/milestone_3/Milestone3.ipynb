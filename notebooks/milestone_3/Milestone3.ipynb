{
 "cells": [
  {
   "cell_type": "markdown",
   "id": "2cb2f9f3",
   "metadata": {},
   "source": [
    "# DSCI 525 - Web and Cloud Computing\n",
    "\n",
    "> Welcome to milestone 3. [This video](https://ubc.zoom.us/rec/share/KwmxGenbxzGXbj3-bTqm0dCG2kdF3TrJcZ8hSXadZIRxY6g62XAEihrbInXCmUj1.VyfFpvC4kK57X--A?startTime=1681063172000) ( Passcode: `w.0bp@d8` ), gives you an introduction to this milestone. I usually do this in the lab, but I thought to make this video as this week will be a busy and short week for you folks, and you can work on this anytime based on your comfort. Due for milestone 3 is only with Milestone 4, so you can also look into it with Milestone 4. Some more details will be given in the lab.\n",
    "\n",
    "***Milestone 3:*** This milestone aims to set up your Spark cluster and develop your machine learning model to deploy it in the cloud for the next milestone. In the next milestone, you will be deploying your model in the cloud.\n",
    "\n",
    "To better split the workload, I have decided to divide the milestone into 3 parts.\n",
    "\n",
    "***Part 1:*** You will set up your EMR Spark cluster based on the configurations for your need. You will be asked to provide some screenshots to demonstrate that you have successfully set up your cluster.\n",
    "\n",
    "***Part 2:*** You will develop your machine learning model in scikit-learn to deploy it in the cloud for the next milestone. This is completely decoupled from the cluster setup, and you can develop it on your laptop, which will be easier for you. A Python 3 notebook named `Milestone3-task3.ipynb` is provided in the Milestone3 folder, which you can use to develop your model.\n",
    "\n",
    "***Part 3:*** You will use Spark's MLlib to obtain the best hyperparameter settings for your model using the cluster you set up in Part 1. A Python notebook named `Milestone3-task4.ipynb` is provided in the Milestone3 folder, which you can use to develop and obtain the best hyperparameter settings.\n",
    "\n",
    "## 0. Submission instructions\n",
    "rubric={mechanics:5}\n",
    "\n",
    "Please put a ***link to your GitHub folder*** in the canvas where TAs can find the following-\n",
    "\n",
    "- Screenshot from \n",
    "    - Setup your EMR cluster (Question 1).\n",
    "    - Setup your EMR notebook (Question 2). \n",
    "    - Your S3 bucket showing `model.joblib` file. (From Question 3 `Milestone3-task3.ipynb` you will develop an ML model using scikit-learn)\n",
    "- Python 3 notebook (`Milestone3-task3.ipynb`), with the code for ML model in scikit-learn. (You can develop this on your laptop)\n",
    "- PySpark notebook (`Milestone3-task4.ipynb`), with the code for obtaining the best hyperparameter settings. ( For this, you have to use PySpark notebook (kernal) in your EMR cluster notebook.)\n"
   ]
  },
  {
   "cell_type": "markdown",
   "id": "12dd5eaf",
   "metadata": {},
   "source": [
    "\n",
    "**Keep in mind:**\n",
    "\n",
    "- _Please use the Firefox browser for this milestone and ensure that you have set up Foxy Proxy._\n",
    "\n",
    "- _All services you use are located in the `us-west-2` region._\n",
    "\n",
    "- _If explicit instructions are not provided, use only the default VPC and subnet, and leave all other options as default when setting up your cluster._\n",
    "\n",
    "- _When providing a screenshot, please mask any visible IP addresses before uploading it._\n",
    "\n",
    "- _For your Spark MLlib process, a 1-node cluster with a single master node (and zero slave nodes) of size m5.4xlarge is good enough (m5.xlarge is sufficient if you are in short of money). These configurations may take 15-20 minutes to optimize tuning parameters for the entire dataset._\n",
    "\n",
    "- _In the event of an issue, if you need to spin up another EMR cluster, be sure to terminate the previous one._\n",
    "\n",
    "- _Upon termination of the cluster, all stored data will be lost. Please ensure that you save any data to S3 and download the notebooks to your laptop. This will enable you to upload the notebook to a different cluster when using JupyterHub next time._\n",
    "\n",
    "_***Outside of Milestone [OPTIONAL]:***  you are encouraged to practice spinning up EMR clusters._\n",
    "\n",
    "***VERY IMPORTANT:*** With Task 4 (Question 4), remember to occasionally download the notebook to your local computer. Once the lab is stopped after three hours, your EMR cluster will be terminated, and everything will be erased. While notebooks will be saved in your S3 bucket, it's good if you download them locally as a backup in case you haven't configured your S3 bucket properly."
   ]
  },
  {
   "cell_type": "markdown",
   "id": "00e82072",
   "metadata": {},
   "source": [
    "\n"
   ]
  },
  {
   "cell_type": "markdown",
   "id": "a99a0163",
   "metadata": {},
   "source": [
    "### 1. Setup your EMR cluster\n",
    "rubric={correctness:25}"
   ]
  },
  {
   "cell_type": "markdown",
   "id": "49c2c914",
   "metadata": {
    "tags": []
   },
   "source": [
    "> Check [this](https://pages.github.ubc.ca/MDS-2022-23/DSCI_525_web-cloud-comp_students/lectures/lecture6.html#setting-up-emr-demo) section in lecture notes for setting up EMR cluster and short video on it. I strongly recommend you watch the video if you are doing it before the lecture day.\n",
    "\n",
    "Follow the instructions shown during the lecture to set up your EMR cluster. I am adding minimal instructions here. \n",
    "\n",
    "1.0) Select the region as `us-west-2` and ***switch to old web console*** when using EMR (details in video).\n",
    "\n",
    "1.1) Go to advanced options.\n",
    "\n",
    "1.2) Choose Release 6.10.0.\n",
    "\n",
    "1.3) Check Spark, Hadoop, JupyterEnterpriseGateway, and Livy. (uncheck everything else)\n",
    "\n",
    "1.4) Core instances to be 0, master 1.\n",
    "    \n",
    "1.5) You can go for an m5.4xlarge instance. However, you can also choose a bigger instance (e.g., m5.8xlarge, but make sure you budget).\n",
    "\n",
    "1.6) Cluster name to be `mds-your_groupnumber`. For eg, if my group is 14 I would name it `mds-14`.\n",
    "    \n",
    "1.7) Uncheck Enable auto-termination.\n",
    "        \n",
    "1.8) Select the key pair you can access (from your milestone 2). If you have set up at least one EC2 instance, you will see the key you used to set up your EC2 instance here.\n",
    "\n",
    "1.9) For all security groups, please go with the default.\n",
    "\n",
    "1.10) Wait for the cluster to start. This takes around ~15 min. Once it is ready, you will see a solid green dot. "
   ]
  },
  {
   "cell_type": "markdown",
   "id": "03b9edce",
   "metadata": {},
   "source": [
    "#### Please provide here the GitHub path to your screenshot for grading. Example screenshot below;\n",
    "\n",
    "https://github.com/UBC-MDS/DSCI_525_group_20/blob/main/notebooks/milestone_3/ms3_525_1.png \n",
    "\n"
   ]
  },
  {
   "cell_type": "markdown",
   "id": "a813bb36",
   "metadata": {},
   "source": [
    "### 2. Setup your EMR notebook.\n",
    "rubric={correctness:25}"
   ]
  },
  {
   "cell_type": "markdown",
   "id": "4ce679c3",
   "metadata": {},
   "source": [
    "> Check [this](https://pages.github.ubc.ca/MDS-2022-23/DSCI_525_web-cloud-comp_students/lectures/lecture6.html#emr-notebooks-demo) section in lecture notes for setting up EMR cluster and short video on it. I strongly recommend you watch the video if you are doing it before the lecture day.\n",
    "\n",
    "2.1) Name EMR notebook name to be `mds-your_groupnumber`. For e.g., if my group is 14, I would name it `mds-14`.\n",
    "\n",
    "You want to upload your `Milestone3-task4.ipynb` (Question 4) notebooks to your EMR cluster notebook to obtain the best hyperparameter settings using spark. For `Milestone3-task3.ipynb` (Question 3), you can develop locally on your laptop."
   ]
  },
  {
   "cell_type": "markdown",
   "id": "c5182631",
   "metadata": {},
   "source": [
    "#### Please provide here the GitHub path to your screenshot for grading. Example screenshot below;\n",
    "\n",
    "https://github.com/UBC-MDS/DSCI_525_group_20/blob/main/notebooks/milestone_3/ms3_525_2.png\n",
    "\n"
   ]
  },
  {
   "cell_type": "markdown",
   "id": "fbce919f",
   "metadata": {},
   "source": [
    "\n"
   ]
  },
  {
   "cell_type": "markdown",
   "id": "74e211fc",
   "metadata": {},
   "source": [
    "### 3. Develop a ML model using scikit-learn.\n",
    "rubric={correctness:25}"
   ]
  },
  {
   "cell_type": "markdown",
   "id": "e07a1ad7",
   "metadata": {},
   "source": [
    "I recommend doing this on your laptop so that you don't have to worry about the lab time limit and automatic shutdown. Please open [Milestone3-Task3.ipynb](https://github.ubc.ca/MDS-2020-21/DSCI_525_web-cloud-comp_students/blob/master/Milestones/milestone3/Milestone3-Task3.ipynb) notebook in your local Jupyter notebook and follow the instructions provided there.\n",
    "\n",
    "`Milestone3-Task3.ipynb` notebook is divided into two parts. In order to complete part 2 (within the `Milestone3-Task3.ipynb` notebook), you will need information from Question 4 ( next question ).\n",
    "\n",
    "#### Please provide the path to your solved `Milestone3-Task3.ipynb` notebook here.\n",
    "\n",
    "https://github.com/UBC-MDS/DSCI_525_group_20/blob/main/notebooks/milestone_3/Milestone3-task3.ipynb\n",
    "\n",
    "#### Please provide here the GitHub path to your S3 bucket showing `model.joblib` file. \n",
    "\n",
    "https://github.com/UBC-MDS/DSCI_525_group_20/blob/main/notebooks/milestone_3/ms3_525_3.png\n"
   ]
  },
  {
   "cell_type": "markdown",
   "id": "4f6a45dc",
   "metadata": {},
   "source": [
    "\n"
   ]
  },
  {
   "cell_type": "markdown",
   "id": "cf39dfdb",
   "metadata": {},
   "source": [
    "### 4. Obtain best hyperparameter settings using spark's MLlib.\n",
    "rubric={correctness:20}"
   ]
  },
  {
   "cell_type": "markdown",
   "id": "4931e33f",
   "metadata": {},
   "source": [
    "Upload [Milestone3-Task4.ipynb](https://github.ubc.ca/MDS-2020-21/DSCI_525_web-cloud-comp_students/blob/master/Milestones/milestone3/Milestone3-Task4.ipynb) notebook to your EMR notebook in the cluster, you set up in Question 2 and follow the instructions given in the `Milestone3-Task4.ipynb` notebook.\n",
    "\n",
    "#### Please provide the path to your solved `Milestone3-Task4.ipynb` notebook here.\n",
    "\n",
    "https://github.com/UBC-MDS/DSCI_525_group_20/blob/main/notebooks/milestone_3/Milestone3-task4.ipynb "
   ]
  },
  {
   "cell_type": "markdown",
   "id": "6a24925a",
   "metadata": {},
   "source": []
  }
 ],
 "metadata": {
  "kernelspec": {
   "display_name": "Python 3 (ipykernel)",
   "language": "python",
   "name": "python3"
  },
  "language_info": {
   "codemirror_mode": {
    "name": "ipython",
    "version": 3
   },
   "file_extension": ".py",
   "mimetype": "text/x-python",
   "name": "python",
   "nbconvert_exporter": "python",
   "pygments_lexer": "ipython3",
   "version": "3.10.8"
  },
  "vscode": {
   "interpreter": {
    "hash": "6e9e0baa62560f8a3b402c12d339bdad33c58a25305700ec7e7682c0b6251f68"
   }
  }
 },
 "nbformat": 4,
 "nbformat_minor": 5
}

{
 "cells": [
  {
   "cell_type": "markdown",
   "metadata": {},
   "source": [
    "# Task 3"
   ]
  },
  {
   "cell_type": "markdown",
   "metadata": {},
   "source": [
    "This notebook is part of Milestone 3, Question 3. You can work on this notebook on your laptop to develop your machine learning model using all the learnings from the previous courses. At the end of this notebook, when you are ready to train the model, you will need to obtain the hyperparameters from the hyperparameter tuning job that you will run in Milestone 3 Question 4 (i.e., the notebook named `Milestone3-Task4.ipynb`).\n",
    "\n",
    "PS: To speed up the process, you can test the model without the hyperparameters first. Once other team members obtain the hyperparameters, you can retrain the model using those hyperparameters and test it again."
   ]
  },
  {
   "cell_type": "code",
   "execution_count": 1,
   "metadata": {
    "execution": {
     "iopub.execute_input": "2023-04-18T22:49:17.470645Z",
     "iopub.status.busy": "2023-04-18T22:49:17.470433Z",
     "iopub.status.idle": "2023-04-18T22:49:17.473329Z",
     "shell.execute_reply": "2023-04-18T22:49:17.472698Z",
     "shell.execute_reply.started": "2023-04-18T22:49:17.470624Z"
    },
    "tags": []
   },
   "outputs": [],
   "source": [
    "# I asked them to use their laptop so they already got all these packages from previous courses.\n",
    "# %pip install joblib scikit-learn matplotlib s3fs"
   ]
  },
  {
   "cell_type": "markdown",
   "metadata": {},
   "source": [
    "# Imports"
   ]
  },
  {
   "cell_type": "code",
   "execution_count": 2,
   "metadata": {
    "execution": {
     "iopub.execute_input": "2023-04-18T22:49:17.474348Z",
     "iopub.status.busy": "2023-04-18T22:49:17.474137Z",
     "iopub.status.idle": "2023-04-18T22:49:18.420228Z",
     "shell.execute_reply": "2023-04-18T22:49:18.419574Z",
     "shell.execute_reply.started": "2023-04-18T22:49:17.474328Z"
    },
    "tags": []
   },
   "outputs": [],
   "source": [
    "import numpy as np\n",
    "import pandas as pd\n",
    "from joblib import dump, load\n",
    "from sklearn.metrics import mean_squared_error\n",
    "from sklearn.ensemble import RandomForestRegressor\n",
    "from sklearn.model_selection import train_test_split\n",
    "import matplotlib.pyplot as plt\n",
    "plt.style.use('ggplot')\n",
    "plt.rcParams.update({'font.size': 16, 'axes.labelweight': 'bold', 'figure.figsize': (8,6)})\n",
    "## add any other additional packages that you need. You are free to use any packages for vizualization."
   ]
  },
  {
   "cell_type": "markdown",
   "metadata": {},
   "source": [
    "## Part 1:"
   ]
  },
  {
   "cell_type": "markdown",
   "metadata": {},
   "source": [
    "Recall as a final goal of this project. We want to build and deploy ensemble machine learning models in the cloud, where features are outputs of different climate models and the target is the actual rainfall observation. In this milestone, you'll actually build these ensemble machine learning models in the cloud.  \n",
    "\n",
    "**Your tasks:**\n",
    "\n",
    "1. Read the data CSV from your s3 bucket. \n",
    "2. Drop rows with nans. \n",
    "3. Split the data into train (80%) and test (20%) portions with `random_state=123`. \n",
    "4. Carry out EDA of your choice on the train split. \n",
    "5. Train ensemble machine learning model using `RandomForestRegressor` and evaluate with metric of your choice (e.g., `RMSE`) by considering `Observed` as the target column. \n",
    "6. Discuss your results. Are you getting better results with ensemble models compared to the individual climate models? \n",
    "\n",
    "> Recall that individual columns in the data are predictions of different climate models. "
   ]
  },
  {
   "cell_type": "code",
   "execution_count": 3,
   "metadata": {
    "execution": {
     "iopub.execute_input": "2023-04-18T22:49:18.421463Z",
     "iopub.status.busy": "2023-04-18T22:49:18.421091Z",
     "iopub.status.idle": "2023-04-18T22:49:20.010095Z",
     "shell.execute_reply": "2023-04-18T22:49:20.009467Z",
     "shell.execute_reply.started": "2023-04-18T22:49:18.421437Z"
    },
    "tags": []
   },
   "outputs": [
    {
     "data": {
      "text/plain": [
       "(46020, 26)"
      ]
     },
     "execution_count": 3,
     "metadata": {},
     "output_type": "execute_result"
    }
   ],
   "source": [
    "## Remember by default it looks for credentials in home directory. \n",
    "## Make sure your updated credentials are in home directory\n",
    "## or pass credentials explicitly and pass as storage_options=aws_credentials (not a good idea)\n",
    "# aws_credentials = {\"key\": \"\",\"secret\": \"\",\"token\":\"\"}\n",
    "# replace with s3 path to your data\n",
    "df = pd.read_csv(\"s3://mds-s3-20-lauren/output/ml_data_SYD.csv\", index_col=0, parse_dates=True)\n",
    "df.shape"
   ]
  },
  {
   "cell_type": "code",
   "execution_count": 4,
   "metadata": {
    "execution": {
     "iopub.execute_input": "2023-04-18T22:49:20.011392Z",
     "iopub.status.busy": "2023-04-18T22:49:20.011029Z",
     "iopub.status.idle": "2023-04-18T22:49:20.014014Z",
     "shell.execute_reply": "2023-04-18T22:49:20.013466Z",
     "shell.execute_reply.started": "2023-04-18T22:49:20.011368Z"
    },
    "tags": []
   },
   "outputs": [],
   "source": [
    "## Use your ML skills to get from step 1 to step 6"
   ]
  },
  {
   "cell_type": "code",
   "execution_count": 5,
   "metadata": {
    "execution": {
     "iopub.execute_input": "2023-04-18T22:49:20.014963Z",
     "iopub.status.busy": "2023-04-18T22:49:20.014757Z",
     "iopub.status.idle": "2023-04-18T22:49:20.024493Z",
     "shell.execute_reply": "2023-04-18T22:49:20.023941Z",
     "shell.execute_reply.started": "2023-04-18T22:49:20.014944Z"
    },
    "tags": []
   },
   "outputs": [
    {
     "data": {
      "text/plain": [
       "(45989, 26)"
      ]
     },
     "execution_count": 5,
     "metadata": {},
     "output_type": "execute_result"
    }
   ],
   "source": [
    "# Drop NA\n",
    "df = df.dropna(axis=0)\n",
    "df.shape"
   ]
  },
  {
   "cell_type": "code",
   "execution_count": 6,
   "metadata": {
    "execution": {
     "iopub.execute_input": "2023-04-18T22:49:20.026442Z",
     "iopub.status.busy": "2023-04-18T22:49:20.026231Z",
     "iopub.status.idle": "2023-04-18T22:49:20.038826Z",
     "shell.execute_reply": "2023-04-18T22:49:20.038247Z",
     "shell.execute_reply.started": "2023-04-18T22:49:20.026423Z"
    }
   },
   "outputs": [
    {
     "name": "stdout",
     "output_type": "stream",
     "text": [
      "(36791, 26)\n",
      "(9198, 26)\n"
     ]
    }
   ],
   "source": [
    "# Train and test split\n",
    "train_df, test_df = train_test_split(df, test_size=0.2, random_state=123)\n",
    "print(train_df.shape)\n",
    "print(test_df.shape)"
   ]
  },
  {
   "cell_type": "code",
   "execution_count": 7,
   "metadata": {
    "execution": {
     "iopub.execute_input": "2023-04-18T22:49:20.040261Z",
     "iopub.status.busy": "2023-04-18T22:49:20.039907Z",
     "iopub.status.idle": "2023-04-18T22:49:20.139198Z",
     "shell.execute_reply": "2023-04-18T22:49:20.138452Z",
     "shell.execute_reply.started": "2023-04-18T22:49:20.040239Z"
    }
   },
   "outputs": [
    {
     "data": {
      "text/html": [
       "<div>\n",
       "<style scoped>\n",
       "    .dataframe tbody tr th:only-of-type {\n",
       "        vertical-align: middle;\n",
       "    }\n",
       "\n",
       "    .dataframe tbody tr th {\n",
       "        vertical-align: top;\n",
       "    }\n",
       "\n",
       "    .dataframe thead th {\n",
       "        text-align: right;\n",
       "    }\n",
       "</style>\n",
       "<table border=\"1\" class=\"dataframe\">\n",
       "  <thead>\n",
       "    <tr style=\"text-align: right;\">\n",
       "      <th></th>\n",
       "      <th>count</th>\n",
       "      <th>mean</th>\n",
       "      <th>std</th>\n",
       "      <th>min</th>\n",
       "      <th>25%</th>\n",
       "      <th>50%</th>\n",
       "      <th>75%</th>\n",
       "      <th>max</th>\n",
       "    </tr>\n",
       "  </thead>\n",
       "  <tbody>\n",
       "    <tr>\n",
       "      <th>ACCESS-CM2</th>\n",
       "      <td>36791.0</td>\n",
       "      <td>2.429</td>\n",
       "      <td>6.791</td>\n",
       "      <td>0.0</td>\n",
       "      <td>0.054</td>\n",
       "      <td>0.193</td>\n",
       "      <td>1.445</td>\n",
       "      <td>149.968</td>\n",
       "    </tr>\n",
       "    <tr>\n",
       "      <th>ACCESS-ESM1-5</th>\n",
       "      <td>36791.0</td>\n",
       "      <td>2.939</td>\n",
       "      <td>7.049</td>\n",
       "      <td>0.0</td>\n",
       "      <td>0.021</td>\n",
       "      <td>0.493</td>\n",
       "      <td>2.399</td>\n",
       "      <td>157.606</td>\n",
       "    </tr>\n",
       "    <tr>\n",
       "      <th>AWI-ESM-1-1-LR</th>\n",
       "      <td>36791.0</td>\n",
       "      <td>3.716</td>\n",
       "      <td>7.281</td>\n",
       "      <td>0.0</td>\n",
       "      <td>0.030</td>\n",
       "      <td>0.592</td>\n",
       "      <td>3.602</td>\n",
       "      <td>89.466</td>\n",
       "    </tr>\n",
       "    <tr>\n",
       "      <th>BCC-CSM2-MR</th>\n",
       "      <td>36791.0</td>\n",
       "      <td>2.203</td>\n",
       "      <td>6.518</td>\n",
       "      <td>0.0</td>\n",
       "      <td>0.001</td>\n",
       "      <td>0.096</td>\n",
       "      <td>1.319</td>\n",
       "      <td>134.465</td>\n",
       "    </tr>\n",
       "    <tr>\n",
       "      <th>BCC-ESM1</th>\n",
       "      <td>36791.0</td>\n",
       "      <td>2.748</td>\n",
       "      <td>5.997</td>\n",
       "      <td>0.0</td>\n",
       "      <td>0.002</td>\n",
       "      <td>0.299</td>\n",
       "      <td>2.478</td>\n",
       "      <td>87.135</td>\n",
       "    </tr>\n",
       "    <tr>\n",
       "      <th>CMCC-CM2-HR4</th>\n",
       "      <td>36791.0</td>\n",
       "      <td>3.093</td>\n",
       "      <td>6.459</td>\n",
       "      <td>0.0</td>\n",
       "      <td>0.138</td>\n",
       "      <td>0.634</td>\n",
       "      <td>3.183</td>\n",
       "      <td>124.952</td>\n",
       "    </tr>\n",
       "    <tr>\n",
       "      <th>CMCC-CM2-SR5</th>\n",
       "      <td>36791.0</td>\n",
       "      <td>3.575</td>\n",
       "      <td>7.353</td>\n",
       "      <td>-0.0</td>\n",
       "      <td>0.089</td>\n",
       "      <td>0.828</td>\n",
       "      <td>3.728</td>\n",
       "      <td>140.148</td>\n",
       "    </tr>\n",
       "    <tr>\n",
       "      <th>CMCC-ESM2</th>\n",
       "      <td>36791.0</td>\n",
       "      <td>3.490</td>\n",
       "      <td>7.039</td>\n",
       "      <td>-0.0</td>\n",
       "      <td>0.093</td>\n",
       "      <td>0.849</td>\n",
       "      <td>3.630</td>\n",
       "      <td>137.592</td>\n",
       "    </tr>\n",
       "    <tr>\n",
       "      <th>CanESM5</th>\n",
       "      <td>36791.0</td>\n",
       "      <td>2.879</td>\n",
       "      <td>6.899</td>\n",
       "      <td>0.0</td>\n",
       "      <td>0.022</td>\n",
       "      <td>0.338</td>\n",
       "      <td>2.559</td>\n",
       "      <td>135.570</td>\n",
       "    </tr>\n",
       "    <tr>\n",
       "      <th>EC-Earth3-Veg-LR</th>\n",
       "      <td>36791.0</td>\n",
       "      <td>2.565</td>\n",
       "      <td>5.733</td>\n",
       "      <td>-0.0</td>\n",
       "      <td>0.012</td>\n",
       "      <td>0.430</td>\n",
       "      <td>2.296</td>\n",
       "      <td>96.424</td>\n",
       "    </tr>\n",
       "    <tr>\n",
       "      <th>FGOALS-g3</th>\n",
       "      <td>36791.0</td>\n",
       "      <td>1.736</td>\n",
       "      <td>4.473</td>\n",
       "      <td>0.0</td>\n",
       "      <td>0.027</td>\n",
       "      <td>0.285</td>\n",
       "      <td>1.336</td>\n",
       "      <td>105.090</td>\n",
       "    </tr>\n",
       "    <tr>\n",
       "      <th>GFDL-CM4</th>\n",
       "      <td>36791.0</td>\n",
       "      <td>1.804</td>\n",
       "      <td>5.715</td>\n",
       "      <td>0.0</td>\n",
       "      <td>0.004</td>\n",
       "      <td>0.121</td>\n",
       "      <td>0.947</td>\n",
       "      <td>123.151</td>\n",
       "    </tr>\n",
       "    <tr>\n",
       "      <th>INM-CM4-8</th>\n",
       "      <td>36791.0</td>\n",
       "      <td>3.860</td>\n",
       "      <td>7.555</td>\n",
       "      <td>0.0</td>\n",
       "      <td>0.115</td>\n",
       "      <td>1.220</td>\n",
       "      <td>4.206</td>\n",
       "      <td>134.262</td>\n",
       "    </tr>\n",
       "    <tr>\n",
       "      <th>INM-CM5-0</th>\n",
       "      <td>36791.0</td>\n",
       "      <td>4.079</td>\n",
       "      <td>8.280</td>\n",
       "      <td>0.0</td>\n",
       "      <td>0.082</td>\n",
       "      <td>1.166</td>\n",
       "      <td>4.261</td>\n",
       "      <td>133.974</td>\n",
       "    </tr>\n",
       "    <tr>\n",
       "      <th>KIOST-ESM</th>\n",
       "      <td>36791.0</td>\n",
       "      <td>1.683</td>\n",
       "      <td>4.262</td>\n",
       "      <td>0.0</td>\n",
       "      <td>0.020</td>\n",
       "      <td>0.292</td>\n",
       "      <td>1.571</td>\n",
       "      <td>100.232</td>\n",
       "    </tr>\n",
       "    <tr>\n",
       "      <th>MIROC6</th>\n",
       "      <td>36791.0</td>\n",
       "      <td>3.117</td>\n",
       "      <td>7.798</td>\n",
       "      <td>0.0</td>\n",
       "      <td>0.019</td>\n",
       "      <td>0.351</td>\n",
       "      <td>2.291</td>\n",
       "      <td>167.150</td>\n",
       "    </tr>\n",
       "    <tr>\n",
       "      <th>MPI-ESM-1-2-HAM</th>\n",
       "      <td>36791.0</td>\n",
       "      <td>3.214</td>\n",
       "      <td>6.979</td>\n",
       "      <td>0.0</td>\n",
       "      <td>0.000</td>\n",
       "      <td>0.208</td>\n",
       "      <td>2.699</td>\n",
       "      <td>93.068</td>\n",
       "    </tr>\n",
       "    <tr>\n",
       "      <th>MPI-ESM1-2-HR</th>\n",
       "      <td>36791.0</td>\n",
       "      <td>1.299</td>\n",
       "      <td>4.891</td>\n",
       "      <td>0.0</td>\n",
       "      <td>0.000</td>\n",
       "      <td>0.002</td>\n",
       "      <td>0.347</td>\n",
       "      <td>109.501</td>\n",
       "    </tr>\n",
       "    <tr>\n",
       "      <th>MPI-ESM1-2-LR</th>\n",
       "      <td>36791.0</td>\n",
       "      <td>2.041</td>\n",
       "      <td>5.348</td>\n",
       "      <td>0.0</td>\n",
       "      <td>0.000</td>\n",
       "      <td>0.114</td>\n",
       "      <td>1.192</td>\n",
       "      <td>74.844</td>\n",
       "    </tr>\n",
       "    <tr>\n",
       "      <th>MRI-ESM2-0</th>\n",
       "      <td>36791.0</td>\n",
       "      <td>1.533</td>\n",
       "      <td>5.000</td>\n",
       "      <td>0.0</td>\n",
       "      <td>0.000</td>\n",
       "      <td>0.032</td>\n",
       "      <td>0.673</td>\n",
       "      <td>101.690</td>\n",
       "    </tr>\n",
       "    <tr>\n",
       "      <th>NESM3</th>\n",
       "      <td>36791.0</td>\n",
       "      <td>1.727</td>\n",
       "      <td>4.873</td>\n",
       "      <td>0.0</td>\n",
       "      <td>0.000</td>\n",
       "      <td>0.050</td>\n",
       "      <td>0.787</td>\n",
       "      <td>80.458</td>\n",
       "    </tr>\n",
       "    <tr>\n",
       "      <th>NorESM2-LM</th>\n",
       "      <td>36791.0</td>\n",
       "      <td>2.458</td>\n",
       "      <td>5.815</td>\n",
       "      <td>0.0</td>\n",
       "      <td>0.005</td>\n",
       "      <td>0.170</td>\n",
       "      <td>1.823</td>\n",
       "      <td>114.898</td>\n",
       "    </tr>\n",
       "    <tr>\n",
       "      <th>NorESM2-MM</th>\n",
       "      <td>36791.0</td>\n",
       "      <td>2.890</td>\n",
       "      <td>7.129</td>\n",
       "      <td>0.0</td>\n",
       "      <td>0.010</td>\n",
       "      <td>0.256</td>\n",
       "      <td>2.451</td>\n",
       "      <td>163.165</td>\n",
       "    </tr>\n",
       "    <tr>\n",
       "      <th>Observed</th>\n",
       "      <td>36791.0</td>\n",
       "      <td>2.726</td>\n",
       "      <td>8.078</td>\n",
       "      <td>0.0</td>\n",
       "      <td>0.008</td>\n",
       "      <td>0.163</td>\n",
       "      <td>1.613</td>\n",
       "      <td>192.933</td>\n",
       "    </tr>\n",
       "    <tr>\n",
       "      <th>SAM0-UNICON</th>\n",
       "      <td>36791.0</td>\n",
       "      <td>3.384</td>\n",
       "      <td>7.927</td>\n",
       "      <td>-0.0</td>\n",
       "      <td>0.037</td>\n",
       "      <td>0.654</td>\n",
       "      <td>3.275</td>\n",
       "      <td>154.972</td>\n",
       "    </tr>\n",
       "    <tr>\n",
       "      <th>TaiESM1</th>\n",
       "      <td>36791.0</td>\n",
       "      <td>3.418</td>\n",
       "      <td>7.559</td>\n",
       "      <td>-0.0</td>\n",
       "      <td>0.049</td>\n",
       "      <td>0.668</td>\n",
       "      <td>3.234</td>\n",
       "      <td>167.356</td>\n",
       "    </tr>\n",
       "  </tbody>\n",
       "</table>\n",
       "</div>"
      ],
      "text/plain": [
       "                    count   mean    std  min    25%    50%    75%      max\n",
       "ACCESS-CM2        36791.0  2.429  6.791  0.0  0.054  0.193  1.445  149.968\n",
       "ACCESS-ESM1-5     36791.0  2.939  7.049  0.0  0.021  0.493  2.399  157.606\n",
       "AWI-ESM-1-1-LR    36791.0  3.716  7.281  0.0  0.030  0.592  3.602   89.466\n",
       "BCC-CSM2-MR       36791.0  2.203  6.518  0.0  0.001  0.096  1.319  134.465\n",
       "BCC-ESM1          36791.0  2.748  5.997  0.0  0.002  0.299  2.478   87.135\n",
       "CMCC-CM2-HR4      36791.0  3.093  6.459  0.0  0.138  0.634  3.183  124.952\n",
       "CMCC-CM2-SR5      36791.0  3.575  7.353 -0.0  0.089  0.828  3.728  140.148\n",
       "CMCC-ESM2         36791.0  3.490  7.039 -0.0  0.093  0.849  3.630  137.592\n",
       "CanESM5           36791.0  2.879  6.899  0.0  0.022  0.338  2.559  135.570\n",
       "EC-Earth3-Veg-LR  36791.0  2.565  5.733 -0.0  0.012  0.430  2.296   96.424\n",
       "FGOALS-g3         36791.0  1.736  4.473  0.0  0.027  0.285  1.336  105.090\n",
       "GFDL-CM4          36791.0  1.804  5.715  0.0  0.004  0.121  0.947  123.151\n",
       "INM-CM4-8         36791.0  3.860  7.555  0.0  0.115  1.220  4.206  134.262\n",
       "INM-CM5-0         36791.0  4.079  8.280  0.0  0.082  1.166  4.261  133.974\n",
       "KIOST-ESM         36791.0  1.683  4.262  0.0  0.020  0.292  1.571  100.232\n",
       "MIROC6            36791.0  3.117  7.798  0.0  0.019  0.351  2.291  167.150\n",
       "MPI-ESM-1-2-HAM   36791.0  3.214  6.979  0.0  0.000  0.208  2.699   93.068\n",
       "MPI-ESM1-2-HR     36791.0  1.299  4.891  0.0  0.000  0.002  0.347  109.501\n",
       "MPI-ESM1-2-LR     36791.0  2.041  5.348  0.0  0.000  0.114  1.192   74.844\n",
       "MRI-ESM2-0        36791.0  1.533  5.000  0.0  0.000  0.032  0.673  101.690\n",
       "NESM3             36791.0  1.727  4.873  0.0  0.000  0.050  0.787   80.458\n",
       "NorESM2-LM        36791.0  2.458  5.815  0.0  0.005  0.170  1.823  114.898\n",
       "NorESM2-MM        36791.0  2.890  7.129  0.0  0.010  0.256  2.451  163.165\n",
       "Observed          36791.0  2.726  8.078  0.0  0.008  0.163  1.613  192.933\n",
       "SAM0-UNICON       36791.0  3.384  7.927 -0.0  0.037  0.654  3.275  154.972\n",
       "TaiESM1           36791.0  3.418  7.559 -0.0  0.049  0.668  3.234  167.356"
      ]
     },
     "execution_count": 7,
     "metadata": {},
     "output_type": "execute_result"
    }
   ],
   "source": [
    "# Perform EDA\n",
    "train_df.describe().round(3).T"
   ]
  },
  {
   "cell_type": "code",
   "execution_count": 8,
   "metadata": {
    "execution": {
     "iopub.execute_input": "2023-04-18T22:49:20.140399Z",
     "iopub.status.busy": "2023-04-18T22:49:20.140178Z",
     "iopub.status.idle": "2023-04-18T22:49:20.592386Z",
     "shell.execute_reply": "2023-04-18T22:49:20.591712Z",
     "shell.execute_reply.started": "2023-04-18T22:49:20.140378Z"
    },
    "tags": []
   },
   "outputs": [
    {
     "data": {
      "image/png": "[encoded data removed]",
      "text/plain": [
       "<Figure size 800x600 with 1 Axes>"
      ]
     },
     "metadata": {},
     "output_type": "display_data"
    }
   ],
   "source": [
    "train_df['Observed'].plot()\n",
    "plt.show()"
   ]
  },
  {
   "cell_type": "code",
   "execution_count": 9,
   "metadata": {
    "execution": {
     "iopub.execute_input": "2023-04-18T22:49:20.593541Z",
     "iopub.status.busy": "2023-04-18T22:49:20.593306Z",
     "iopub.status.idle": "2023-04-18T22:52:08.968839Z",
     "shell.execute_reply": "2023-04-18T22:52:08.968180Z",
     "shell.execute_reply.started": "2023-04-18T22:49:20.593519Z"
    },
    "tags": []
   },
   "outputs": [
    {
     "data": {
      "text/plain": [
       "RandomForestRegressor(random_state=123)"
      ]
     },
     "execution_count": 9,
     "metadata": {},
     "output_type": "execute_result"
    }
   ],
   "source": [
    "# Train RandomForestRegressor\n",
    "X_train = train_df.drop(columns=['Observed'])\n",
    "y_train = train_df['Observed']\n",
    "\n",
    "X_test = test_df.drop(columns=['Observed'])\n",
    "y_test = test_df['Observed']\n",
    "\n",
    "rf_regressor = RandomForestRegressor(random_state=123)\n",
    "rf_regressor.fit(X_train, y_train)"
   ]
  },
  {
   "cell_type": "code",
   "execution_count": 10,
   "metadata": {
    "execution": {
     "iopub.execute_input": "2023-04-18T22:52:08.969891Z",
     "iopub.status.busy": "2023-04-18T22:52:08.969674Z",
     "iopub.status.idle": "2023-04-18T22:52:09.345051Z",
     "shell.execute_reply": "2023-04-18T22:52:09.344383Z",
     "shell.execute_reply.started": "2023-04-18T22:52:08.969870Z"
    },
    "tags": []
   },
   "outputs": [
    {
     "name": "stdout",
     "output_type": "stream",
     "text": [
      "Root mean squared error: 8.86\n"
     ]
    }
   ],
   "source": [
    "predictions = rf_regressor.predict(X_test)\n",
    "print(f\"Root mean squared error: {mean_squared_error(y_test, predictions, squared=False):.2f}\")"
   ]
  },
  {
   "cell_type": "code",
   "execution_count": 11,
   "metadata": {
    "execution": {
     "iopub.execute_input": "2023-04-18T22:52:09.346133Z",
     "iopub.status.busy": "2023-04-18T22:52:09.345911Z",
     "iopub.status.idle": "2023-04-18T22:52:11.015932Z",
     "shell.execute_reply": "2023-04-18T22:52:11.015320Z",
     "shell.execute_reply.started": "2023-04-18T22:52:09.346112Z"
    },
    "tags": []
   },
   "outputs": [
    {
     "data": {
      "text/html": [
       "<div>\n",
       "<style scoped>\n",
       "    .dataframe tbody tr th:only-of-type {\n",
       "        vertical-align: middle;\n",
       "    }\n",
       "\n",
       "    .dataframe tbody tr th {\n",
       "        vertical-align: top;\n",
       "    }\n",
       "\n",
       "    .dataframe thead th {\n",
       "        text-align: right;\n",
       "    }\n",
       "</style>\n",
       "<table border=\"1\" class=\"dataframe\">\n",
       "  <thead>\n",
       "    <tr style=\"text-align: right;\">\n",
       "      <th></th>\n",
       "      <th>Train RMSE</th>\n",
       "      <th>Test RMSE</th>\n",
       "    </tr>\n",
       "    <tr>\n",
       "      <th>Model</th>\n",
       "      <th></th>\n",
       "      <th></th>\n",
       "    </tr>\n",
       "  </thead>\n",
       "  <tbody>\n",
       "    <tr>\n",
       "      <th>Ensemble</th>\n",
       "      <td>3.110881</td>\n",
       "      <td>8.860048</td>\n",
       "    </tr>\n",
       "    <tr>\n",
       "      <th>KIOST-ESM</th>\n",
       "      <td>9.196532</td>\n",
       "      <td>9.600480</td>\n",
       "    </tr>\n",
       "    <tr>\n",
       "      <th>FGOALS-g3</th>\n",
       "      <td>9.284867</td>\n",
       "      <td>9.687788</td>\n",
       "    </tr>\n",
       "    <tr>\n",
       "      <th>MRI-ESM2-0</th>\n",
       "      <td>9.609047</td>\n",
       "      <td>9.922795</td>\n",
       "    </tr>\n",
       "    <tr>\n",
       "      <th>MPI-ESM1-2-HR</th>\n",
       "      <td>9.489925</td>\n",
       "      <td>9.969823</td>\n",
       "    </tr>\n",
       "    <tr>\n",
       "      <th>NESM3</th>\n",
       "      <td>9.371897</td>\n",
       "      <td>9.978137</td>\n",
       "    </tr>\n",
       "    <tr>\n",
       "      <th>MPI-ESM1-2-LR</th>\n",
       "      <td>9.681899</td>\n",
       "      <td>10.260886</td>\n",
       "    </tr>\n",
       "    <tr>\n",
       "      <th>NorESM2-LM</th>\n",
       "      <td>9.918216</td>\n",
       "      <td>10.410145</td>\n",
       "    </tr>\n",
       "    <tr>\n",
       "      <th>EC-Earth3-Veg-LR</th>\n",
       "      <td>9.902149</td>\n",
       "      <td>10.453606</td>\n",
       "    </tr>\n",
       "    <tr>\n",
       "      <th>GFDL-CM4</th>\n",
       "      <td>9.889638</td>\n",
       "      <td>10.511682</td>\n",
       "    </tr>\n",
       "    <tr>\n",
       "      <th>BCC-ESM1</th>\n",
       "      <td>10.071200</td>\n",
       "      <td>10.615578</td>\n",
       "    </tr>\n",
       "    <tr>\n",
       "      <th>CMCC-CM2-HR4</th>\n",
       "      <td>10.353439</td>\n",
       "      <td>10.643204</td>\n",
       "    </tr>\n",
       "    <tr>\n",
       "      <th>ACCESS-ESM1-5</th>\n",
       "      <td>10.643536</td>\n",
       "      <td>10.695305</td>\n",
       "    </tr>\n",
       "    <tr>\n",
       "      <th>BCC-CSM2-MR</th>\n",
       "      <td>10.294775</td>\n",
       "      <td>10.761381</td>\n",
       "    </tr>\n",
       "    <tr>\n",
       "      <th>MPI-ESM-1-2-HAM</th>\n",
       "      <td>10.615042</td>\n",
       "      <td>10.932004</td>\n",
       "    </tr>\n",
       "    <tr>\n",
       "      <th>NorESM2-MM</th>\n",
       "      <td>10.683340</td>\n",
       "      <td>10.939740</td>\n",
       "    </tr>\n",
       "    <tr>\n",
       "      <th>AWI-ESM-1-1-LR</th>\n",
       "      <td>10.876956</td>\n",
       "      <td>10.996616</td>\n",
       "    </tr>\n",
       "    <tr>\n",
       "      <th>ACCESS-CM2</th>\n",
       "      <td>10.567243</td>\n",
       "      <td>11.038999</td>\n",
       "    </tr>\n",
       "    <tr>\n",
       "      <th>CanESM5</th>\n",
       "      <td>10.571301</td>\n",
       "      <td>11.151318</td>\n",
       "    </tr>\n",
       "    <tr>\n",
       "      <th>CMCC-ESM2</th>\n",
       "      <td>10.713240</td>\n",
       "      <td>11.246493</td>\n",
       "    </tr>\n",
       "    <tr>\n",
       "      <th>MIROC6</th>\n",
       "      <td>11.235601</td>\n",
       "      <td>11.352976</td>\n",
       "    </tr>\n",
       "    <tr>\n",
       "      <th>INM-CM4-8</th>\n",
       "      <td>11.088450</td>\n",
       "      <td>11.451635</td>\n",
       "    </tr>\n",
       "    <tr>\n",
       "      <th>CMCC-CM2-SR5</th>\n",
       "      <td>10.935517</td>\n",
       "      <td>11.480614</td>\n",
       "    </tr>\n",
       "    <tr>\n",
       "      <th>TaiESM1</th>\n",
       "      <td>11.008567</td>\n",
       "      <td>11.528083</td>\n",
       "    </tr>\n",
       "    <tr>\n",
       "      <th>SAM0-UNICON</th>\n",
       "      <td>11.318714</td>\n",
       "      <td>11.678749</td>\n",
       "    </tr>\n",
       "    <tr>\n",
       "      <th>INM-CM5-0</th>\n",
       "      <td>11.624718</td>\n",
       "      <td>12.250223</td>\n",
       "    </tr>\n",
       "  </tbody>\n",
       "</table>\n",
       "</div>"
      ],
      "text/plain": [
       "                  Train RMSE  Test RMSE\n",
       "Model                                  \n",
       "Ensemble            3.110881   8.860048\n",
       "KIOST-ESM           9.196532   9.600480\n",
       "FGOALS-g3           9.284867   9.687788\n",
       "MRI-ESM2-0          9.609047   9.922795\n",
       "MPI-ESM1-2-HR       9.489925   9.969823\n",
       "NESM3               9.371897   9.978137\n",
       "MPI-ESM1-2-LR       9.681899  10.260886\n",
       "NorESM2-LM          9.918216  10.410145\n",
       "EC-Earth3-Veg-LR    9.902149  10.453606\n",
       "GFDL-CM4            9.889638  10.511682\n",
       "BCC-ESM1           10.071200  10.615578\n",
       "CMCC-CM2-HR4       10.353439  10.643204\n",
       "ACCESS-ESM1-5      10.643536  10.695305\n",
       "BCC-CSM2-MR        10.294775  10.761381\n",
       "MPI-ESM-1-2-HAM    10.615042  10.932004\n",
       "NorESM2-MM         10.683340  10.939740\n",
       "AWI-ESM-1-1-LR     10.876956  10.996616\n",
       "ACCESS-CM2         10.567243  11.038999\n",
       "CanESM5            10.571301  11.151318\n",
       "CMCC-ESM2          10.713240  11.246493\n",
       "MIROC6             11.235601  11.352976\n",
       "INM-CM4-8          11.088450  11.451635\n",
       "CMCC-CM2-SR5       10.935517  11.480614\n",
       "TaiESM1            11.008567  11.528083\n",
       "SAM0-UNICON        11.318714  11.678749\n",
       "INM-CM5-0          11.624718  12.250223"
      ]
     },
     "execution_count": 11,
     "metadata": {},
     "output_type": "execute_result"
    }
   ],
   "source": [
    "# Ensemble vs individual models\n",
    "\n",
    "individual_models = X_test.columns.to_list()\n",
    "\n",
    "train_rmse = [mean_squared_error(y_train, X_train[col], squared=False)\n",
    "              for col in individual_models]\n",
    "test_rmse = [mean_squared_error(y_test, X_test[col], squared=False)\n",
    "             for col in individual_models]\n",
    "\n",
    "results = pd.DataFrame({\n",
    "    'Model': individual_models,\n",
    "    'Train RMSE': train_rmse,\n",
    "    'Test RMSE': test_rmse\n",
    "}).set_index('Model')\n",
    "\n",
    "train_pred = rf_regressor.predict(X_train)\n",
    "test_pred = rf_regressor.predict(X_test)\n",
    "\n",
    "results.loc['Ensemble'] = {'Train RMSE': mean_squared_error(y_train, train_pred, squared=False),\n",
    "                           'Test RMSE': mean_squared_error(y_test, test_pred, squared=False)}\n",
    "results.sort_values('Test RMSE')"
   ]
  },
  {
   "cell_type": "markdown",
   "metadata": {},
   "source": [
    "## Part 2:"
   ]
  },
  {
   "cell_type": "markdown",
   "metadata": {},
   "source": [
    "### Preparation for deploying model next week"
   ]
  },
  {
   "cell_type": "markdown",
   "metadata": {},
   "source": [
    "***NOTE: Complete Question 4 (`Milestone3-task4.ipynb`) from the milestone 3 before coming here***"
   ]
  },
  {
   "cell_type": "markdown",
   "metadata": {},
   "source": [
    "We’ve found the best hyperparameter settings with MLlib (from the Question 4 from milestone3), here we then use the same hyperparameters to train a scikit-learn model. "
   ]
  },
  {
   "cell_type": "code",
   "execution_count": 12,
   "metadata": {
    "execution": {
     "iopub.execute_input": "2023-04-18T22:52:11.017017Z",
     "iopub.status.busy": "2023-04-18T22:52:11.016780Z",
     "iopub.status.idle": "2023-04-18T22:52:43.732119Z",
     "shell.execute_reply": "2023-04-18T22:52:43.731284Z",
     "shell.execute_reply.started": "2023-04-18T22:52:11.016995Z"
    }
   },
   "outputs": [
    {
     "data": {
      "text/plain": [
       "RandomForestRegressor(max_depth=5, random_state=123)"
      ]
     },
     "execution_count": 12,
     "metadata": {},
     "output_type": "execute_result"
    }
   ],
   "source": [
    "# Just replace ___ with the numbers you found from Milestone3-task4.ipynb\n",
    "model = RandomForestRegressor(n_estimators=100, max_depth=5, bootstrap=True, random_state=123)\n",
    "model.fit(X_train, y_train)"
   ]
  },
  {
   "cell_type": "code",
   "execution_count": 13,
   "metadata": {
    "execution": {
     "iopub.execute_input": "2023-04-18T22:52:43.733299Z",
     "iopub.status.busy": "2023-04-18T22:52:43.733076Z",
     "iopub.status.idle": "2023-04-18T22:52:43.851450Z",
     "shell.execute_reply": "2023-04-18T22:52:43.850572Z",
     "shell.execute_reply.started": "2023-04-18T22:52:43.733278Z"
    }
   },
   "outputs": [
    {
     "name": "stdout",
     "output_type": "stream",
     "text": [
      "Train RMSE: 7.89\n",
      " Test RMSE: 8.66\n"
     ]
    }
   ],
   "source": [
    "print(f\"Train RMSE: {mean_squared_error(y_train, model.predict(X_train), squared=False):.2f}\")\n",
    "print(f\" Test RMSE: {mean_squared_error(y_test, model.predict(X_test), squared=False):.2f}\")"
   ]
  },
  {
   "cell_type": "markdown",
   "metadata": {},
   "source": [
    "#### Discussion of Results\n",
    "\n",
    "- Here we see that we have reduced the test RMSE from approx. 8.86 to 8.66 after hyperparameter optimization. This roughly translates into a ~2% improvement in the RMSE. This is not a huge improvement, but does indicate that hyperparameter optimization improved the results. However, when compared to the RMSE of the component models, this can be considered a significant improvement, as 8.66 represents an improvement of ~25-30% in some cases.\n",
    "\n",
    "- As mentioned, it should be noted that the ensemble model is performing better than the individual component models; this is expected behaviour and our results have confirmed this. We see RMSE in the component models range from 9.6-12.3, indicating the Random Forest Regressor is performing well as an ensemble and reducing RMSE against observed values. "
   ]
  },
  {
   "cell_type": "code",
   "execution_count": 24,
   "metadata": {
    "execution": {
     "iopub.execute_input": "2023-04-19T00:06:35.868537Z",
     "iopub.status.busy": "2023-04-19T00:06:35.868216Z",
     "iopub.status.idle": "2023-04-19T00:06:35.872023Z",
     "shell.execute_reply": "2023-04-19T00:06:35.871407Z",
     "shell.execute_reply.started": "2023-04-19T00:06:35.868510Z"
    }
   },
   "outputs": [
    {
     "name": "stdout",
     "output_type": "stream",
     "text": [
      "\n"
     ]
    }
   ],
   "source": [
    "# ready to deploy\n",
    "# where this model is saved? Understand the concept of relative path.\n",
    "dump(model, \"model.joblib\")"
   ]
  },
  {
   "cell_type": "markdown",
   "metadata": {},
   "source": [
    "***Upload model.joblib to s3 under output folder. You choose how you want to upload it (using CLI, SDK, or web console).*** Web console is also completely fine as it is a small file."
   ]
  },
  {
   "cell_type": "code",
   "execution_count": 25,
   "metadata": {
    "execution": {
     "iopub.execute_input": "2023-04-19T00:06:53.356796Z",
     "iopub.status.busy": "2023-04-19T00:06:53.356494Z",
     "iopub.status.idle": "2023-04-19T00:06:53.360039Z",
     "shell.execute_reply": "2023-04-19T00:06:53.359370Z",
     "shell.execute_reply.started": "2023-04-19T00:06:53.356771Z"
    }
   },
   "outputs": [
    {
     "name": "stdout",
     "output_type": "stream",
     "text": [
      "\n"
     ]
    }
   ],
   "source": [
    "import logging\n",
    "import boto3\n",
    "from botocore.exceptions import ClientError\n",
    "\n",
    "s3_client = boto3.client('s3')\n",
    "try:\n",
    "    response = s3_client.upload_file(\"model.joblib\", \"s3://mds-s3-20-lauren/output/\")\n",
    "except ClientError as e:\n",
    "    logging.error(e)"
   ]
  }
 ],
 "metadata": {
  "kernelspec": {
   "display_name": "Python 3 (ipykernel)",
   "language": "python",
   "name": "python3"
  },
  "language_info": {
   "codemirror_mode": {
    "name": "ipython",
    "version": 3
   },
   "file_extension": ".py",
   "mimetype": "text/x-python",
   "name": "python",
   "nbconvert_exporter": "python",
   "pygments_lexer": "ipython3",
   "version": "3.10.8"
  },
  "vscode": {
   "interpreter": {
    "hash": "04169164d22e6c4be6191ef423ac86bcd59ab6849083682d987cca79592811e3"
   }
  }
 },
 "nbformat": 4,
 "nbformat_minor": 4
}

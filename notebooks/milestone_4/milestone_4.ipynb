{
 "cells": [
  {
   "cell_type": "markdown",
   "metadata": {
    "tags": []
   },
   "source": [
    "# Milestone 4\n",
    "\n",
    "- Spencer Gerlach, Xinru Lu and Lauren Zung"
   ]
  },
  {
   "cell_type": "markdown",
   "metadata": {},
   "source": [
    "## 1. Develop your API\n",
    "\n",
    "Copied from the app.py file"
   ]
  },
  {
   "cell_type": "code",
   "execution_count": null,
   "metadata": {},
   "outputs": [],
   "source": [
    "import tempfile\n",
    "import boto3\n",
    "import joblib\n",
    "import numpy as np\n",
    "\n",
    "from flask import Flask, request, jsonify\n",
    "\n",
    "\n",
    "s3_client = boto3.client('s3')\n",
    "bucket_name = \"my-bucket\"\n",
    "key = \"model.pkl\"\n",
    "\n",
    "# 1. Load your model here\n",
    "with tempfile.TemporaryFile() as fp:\n",
    "    s3_client.download_fileobj(Fileobj=fp, Bucket=bucket_name, Key=key)\n",
    "    fp.seek(0)\n",
    "    model = joblib.load(fp)\n",
    "\n",
    "\n",
    "app = Flask(__name__)\n",
    "\n",
    "\n",
    "# 2. Define a prediction function\n",
    "def return_prediction(data):\n",
    "\n",
    "    # format input_data here so that you can pass it to model.predict()\n",
    "    data = np.array(data)\n",
    "\n",
    "    return model.predict(data)\n",
    "\n",
    "# 3. Set up home page using basic html\n",
    "@app.route(\"/\")\n",
    "def index():\n",
    "    return \"\"\"\n",
    "    <h1>Welcome to our rain prediction service</h1>\n",
    "    <h3>We are group 20!</h3>\n",
    "    To use this service, make a JSON post request to the /predict url with 25 climate model outputs.\n",
    "    \"\"\"\n",
    "\n",
    "# 4. define a new route which will accept POST requests and return model predictions\n",
    "@app.route('/predict', methods=['POST'])\n",
    "def rainfall_prediction():\n",
    "    content = request.json  # this extracts the JSON content we sent\n",
    "    input_data = content['data']\n",
    "    prediction = return_prediction(input_data)\n",
    "    results = {\n",
    "        'input': input_data,\n",
    "        'output': prediction\n",
    "    }\n",
    "    return jsonify(results)"
   ]
  },
  {
   "cell_type": "markdown",
   "metadata": {
    "tags": []
   },
   "source": [
    "## 2. Deploy your API\n",
    "\n",
    "(Screenshots attached on Canvas)"
   ]
  },
  {
   "cell_type": "markdown",
   "metadata": {
    "tags": []
   },
   "source": [
    "## 3. Summarize your journey from Milestone 1 to Milestone 4"
   ]
  },
  {
   "cell_type": "markdown",
   "metadata": {},
   "source": [
    "This project presented multiple challenges and learnings. \n",
    "\n",
    "In Milestone 1 we were taught first hand how difficult it can be to load big data locally, and how our typical data file formats start to present challenges. We also had firsthand experience with the difficulties of transferring data across python and R, and how arrow exchange improved the experience.\n",
    "\n",
    "In Milestone 2 we had a lot of experience learning how to configure (via AWS) an EC2 instance, and an S3 bucket for storage. We used these tools to move our parquet file into the S3 bucket, after some wrangling. We discovered that this was a much easier and more streamlined process for dealing with large datasets, as the wrangling and processing was much quicker on the cloud when starting with a parquet file.\n",
    "\n",
    "In Milestone 3 we experimented with a distributed EMR instance, and were able to understand how quickly it was able to handle complex hyperparameter tuning. Hyperparameter tuning is typically quite a slow process, so knowledge of outsourcing this to the cloud is invaluable. Being able to save model/results to the S3 bucket is also a helpful skill.\n",
    "\n",
    "In Milestone 4, we learned how helpful cloud deployment can be for reproducibility and communication of modeling results. It’s difficult to pass a local model to someone to communicate the results, but with a cloud deployment it’s much easier to share our results."
   ]
  },
  {
   "cell_type": "code",
   "execution_count": null,
   "metadata": {},
   "outputs": [],
   "source": []
  }
 ],
 "metadata": {
  "kernelspec": {
   "display_name": "Python 3 (ipykernel)",
   "language": "python",
   "name": "python3"
  },
  "language_info": {
   "codemirror_mode": {
    "name": "ipython",
    "version": 3
   },
   "file_extension": ".py",
   "mimetype": "text/x-python",
   "name": "python",
   "nbconvert_exporter": "python",
   "pygments_lexer": "ipython3",
   "version": "3.10.9"
  }
 },
 "nbformat": 4,
 "nbformat_minor": 4
}

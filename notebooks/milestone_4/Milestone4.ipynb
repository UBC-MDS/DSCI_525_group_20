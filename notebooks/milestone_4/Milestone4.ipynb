{
 "cells": [
  {
   "cell_type": "markdown",
   "id": "50fc43ae",
   "metadata": {},
   "source": [
    "# DSCI 525 - Web and Cloud Computing"
   ]
  },
  {
   "cell_type": "markdown",
   "id": "68ea8629",
   "metadata": {},
   "source": [
    "***Milestone 4:*** In this milestone, you will deploy the machine learning model you trained in milestone 3.\n",
    "\n",
    "You might want to go over the sample project (sampleproject.ipynb) in the milestone folder and get it done before starting this milestone. \n",
    "\n",
    "> Tutorial 3, is also going to help you with this. Attend-it/watch-recording if you need help.\n",
    "\n",
    "Milestone 4 checklist :\n",
    "\n",
    "- [x] Use an EC2 instance. You can spin up a new EC2 instance.\n",
    "- [x] Develop your API here in this notebook (Question 1).\n",
    "- [x] Copy it to ```app.py``` file in EC2 instance (Question 2).\n",
    "- [x] Run your API for other consumers and test it among your colleagues.\n",
    "- [x] Summarize your journey.\n",
    "\n",
    "In this milestone, you will do certain things that you learned. For example...\n",
    "- Setup an EC2 instance.\n",
    "- Login to the instance.\n",
    "- Work with Linux and use some basic commands.\n",
    "- Configure the security group associated with your EC2 instance so that it accepts your webserver requests from your laptop.\n",
    "- Configure AWS CLI.\n",
    "\n",
    "In some places, I explicitly mentioned these to remind you."
   ]
  },
  {
   "cell_type": "code",
   "execution_count": 3,
   "id": "c281967d",
   "metadata": {},
   "outputs": [],
   "source": [
    "## Import all the packages that you need\n",
    "from flask import Flask, request, jsonify\n",
    "import joblib\n",
    "import numpy as np"
   ]
  },
  {
   "cell_type": "markdown",
   "id": "5959bcc5",
   "metadata": {},
   "source": [
    "## 1. Develop your API\n",
    "\n",
    "rubric={mechanics:45}"
   ]
  },
  {
   "cell_type": "markdown",
   "id": "2608e655",
   "metadata": {},
   "source": [
    "You probably got how to set up primary URL endpoints from the `sampleproject.ipynb` and have them process and return some data. Here we are going to create a new endpoint that accepts a POST request of the features required to run the machine learning model that you trained and saved in the last milestone (i.e., a user will post the predictions of the 25 climate model rainfall predictions, i.e., features,  needed to predict with your machine learning model). Your code should then process this data, use your model to make a prediction, and return that prediction to the user. To get you started with all this, I've given you a template that you should fill out to set up this functionality:\n",
    "\n",
    "> ***NOTE:*** You won't be able to test the flask module (or the API you make here) unless you go through steps in ```2. Deploy your API```. However, please make sure that you develop all your functions and inputs properly here."
   ]
  },
  {
   "cell_type": "markdown",
   "id": "dd8df3a4",
   "metadata": {},
   "source": [
    "**Code below has been copied from our `app.py` file**: https://github.com/UBC-MDS/DSCI_525_group_20/blob/main/notebooks/milestone_4/app.py\n",
    "\n",
    "\n",
    "```python\n",
    "import tempfile\n",
    "import boto3\n",
    "import joblib\n",
    "import numpy as np\n",
    "\n",
    "from flask import Flask, request, jsonify\n",
    "\n",
    "\n",
    "s3_client = boto3.client('s3')\n",
    "bucket_name = \"my-bucket\"\n",
    "key = \"model.pkl\"\n",
    "\n",
    "# 1. Load your model here\n",
    "with tempfile.TemporaryFile() as fp:\n",
    "    s3_client.download_fileobj(Fileobj=fp, Bucket=bucket_name, Key=key)\n",
    "    fp.seek(0)\n",
    "    model = joblib.load(fp)\n",
    "\n",
    "\n",
    "app = Flask(__name__)\n",
    "\n",
    "\n",
    "# 2. Define a prediction function\n",
    "def return_prediction(data):\n",
    "\n",
    "    # format input_data here so that you can pass it to model.predict()\n",
    "    data = np.array(data)\n",
    "\n",
    "    return model.predict(data)\n",
    "\n",
    "# 3. Set up home page using basic html\n",
    "@app.route(\"/\")\n",
    "def index():\n",
    "    return \"\"\"\n",
    "    <h1>Welcome to our rain prediction service</h1>\n",
    "    <h3>We are group 20!</h3>\n",
    "    To use this service, make a JSON post request to the /predict url with 25 climate model outputs.\n",
    "    \"\"\"\n",
    "\n",
    "# 4. define a new route which will accept POST requests and return model predictions\n",
    "@app.route('/predict', methods=['POST'])\n",
    "def rainfall_prediction():\n",
    "    content = request.json  # this extracts the JSON content we sent\n",
    "    input_data = content['data']\n",
    "    prediction = return_prediction(input_data)\n",
    "    results = {\n",
    "        'input': input_data,\n",
    "        'output': prediction\n",
    "    }\n",
    "    return jsonify(results)\n",
    "```"
   ]
  },
  {
   "cell_type": "markdown",
   "id": "051c18ff",
   "metadata": {},
   "source": [
    "## 2. Deploy your API\n",
    "\n",
    "rubric={mechanics:40}"
   ]
  },
  {
   "cell_type": "markdown",
   "id": "f4d8db47-f0b5-4a40-8f02-5df1b8444c18",
   "metadata": {},
   "source": [
    "**Link to screenshot of our curl test:** https://github.com/UBC-MDS/DSCI_525_group_20/blob/main/notebooks/milestone_4/ms4_525_1.png"
   ]
  },
  {
   "cell_type": "markdown",
   "id": "d2dc97b9-dfb3-44e6-9fc4-4ac421179249",
   "metadata": {},
   "source": [
    "  "
   ]
  },
  {
   "cell_type": "markdown",
   "id": "91d45379",
   "metadata": {},
   "source": [
    "Once your API (the question above is done) we're ready to deploy it! For this, do the following:\n",
    "\n",
    "1. Setup an EC2 instance. Make sure you add a rule in security group (of your EC2 instance) to accept `All TCP` connections from `Anywhere`. After that SSH into your EC2 instance.\n",
    "2. Make a file `app.py` file in your instance and copy what you developed in Question 1 in there. \n",
    "\n",
    "    2.1 You can use the Linux editor using ```vi```. More details on vi Editor [here](https://www.guru99.com/the-vi-editor.html). Use your previous learnings, notes, mini videos, etc. You can copy code from your jupyter and paste it into `app.py`.\n",
    "    \n",
    "    2.2 (OPTIONAL WAY) Or else you can make a file in your laptop called app.py and copy it over to your EC2 instance using ```scp```. Eg: ```scp -r -i \"ggeorgeAD.pem\" ~/Desktop/app.py  ubuntu@ec2-xxx.ca-central-1.compute.amazonaws.com:~/```\n",
    "\n",
    "3. Download your model from s3 to your EC2 instance. You want to configure your AWS CLI and S3 for this. Use your previous learnings, notes, mini videos, etc.\n",
    "4. Install the dependencies of your API, like `flask`, `joblib`, `sklearn`, etc...\n",
    "\n",
    "    4.1. (Additional help) you can install the required packages inside your terminal.\n",
    "\n",
    "        - Install packages (there might be others): \n",
    "            pip install flask scikit-learn joblib\n",
    "\n",
    "5. Now you're ready to start your service, go ahead and run `flask run --host=0.0.0.0 --port=8080`. This will make your service available at your EC2 instance's `Public IPv4 address` on port 8080. Please ensure that you run this from where ```app.py``` and ```model.joblib``` reside.\n",
    "6. You can now access your service by typing your EC2 instances `public IPv4 address` append with `:8080` into a browser, so something like `http://Public IPv4 address:8080`. From step 4, you might notice that flask output saying \"Running on http://XXXX:8080/ (Press CTRL+C to quit)\", where XXXX is `Private IPv4 address`, and you want to replace it with the `Public IPv4 address`\n",
    "7. You should use `curl` to send a post request to your service to make sure it's working as expected.\n",
    ">EG: curl -X POST http://your_EC2_public_ip:8080/predict -d '{\"data\":[1,2,3,4,53,11,22,37,41,53,11,24,31,44,53,11,22,35,42,53,12,23,31,42,53]}' -H \"Content-Type: application/json\"\n",
    "\n",
    "8. Now, what happens if you exit your connection with the EC2 instance? Can you still reach your service? You won't be able to, because the `flask` process will shut down when you exit your shell session. This is because `flask` is running in the foreground, and when you exit your shell session, the process is killed. We need to run `flask` in the background so that it persists even after we exit our shell session.\n",
    "9. We could use several options to help us persist our server even after we exit our shell session. We'll be using `screen`. `screen` will allow us to create a separate session within which we can run `flask` and won't shut down when we exit the main shell session. Read [this](https://linuxize.com/post/how-to-use-linux-screen/) to learn more on ```screen```.\n",
    "10. Now, create a new `screen` session (think of this as a new, separate shell), using: `screen -S myapi`. If you want to list already created sessions do ```screen -list```. If you want to get into an existing ```screen -x myapi```.\n",
    "11. Within that session, start up your flask app. You can then exit the session by pressing `Ctrl + A then press D`. Here you are detaching the session, once you log back into EC2 instance you can attach it using ```screen -x myapi```.\n",
    "12. Feel free to exit your connection with the EC2 instance now and try reaccessing your service with `curl`. You should find that the service has now persisted!\n",
    "13. ***CONGRATULATIONS!!!*** You have successfully got to the end of our milestones. Move to Task 3 and submit it."
   ]
  },
  {
   "cell_type": "markdown",
   "id": "736fbf7c",
   "metadata": {},
   "source": [
    "## 3. Summarize your journey from Milestone 1 to Milestone 4\n",
    "rubric={reasoning:5, quality:5}\n",
    "> Discuss with your team. While summarizing, you want to cover some key learnings from all milestones. There is no format or structure on how you write this. (also, no minimum number of words, but a soft max limit of 300 words)."
   ]
  },
  {
   "cell_type": "markdown",
   "id": "0bdaccdb-a4d8-4eba-b7f2-355e1a517756",
   "metadata": {},
   "source": [
    "#### Discussion of our Journey :')\n",
    "\n",
    "This project presented multiple challenges and learnings. \n",
    "\n",
    "In Milestone 1 we were taught first hand how difficult it can be to load big data locally, and how our typical data file formats start to present challenges. We also had firsthand experience with the difficulties of transferring data across python and R, and how arrow exchange improved the experience. \n",
    "\n",
    "In Milestone 2, we had a lot of experience learning how to configure (via AWS) an EC2 instance, and an S3 bucket for storage. We used these tools to move our parquet file into the S3 bucket, and save as a csv after some wrangling. We discovered that this was a much easier and more streamlined process for dealing with large datasets, as the wrangling and processing was much quicker on the cloud when starting with a parquet file.\n",
    "\n",
    "In Milestone 3 we experimented with a distributed EMR instance, and were able to understand how quickly it was able to handle complex hyperparameter tuning. Hyperparameter tuning is typically quite a slow process, so knowledge of outsourcing this to the cloud is invaluable. Being able to save model/results to the S3 bucket is also a helpful skill. Milestone 3 is really where we started to develop our intuition for cloud computing, as the benefits became very clear seeing how effective hyperparameter optimization could be. Wranging is one thing, but this was impressive.\n",
    "\n",
    "In Milestone 4, we learned how helpful cloud deployment can be for reproducibility and communication of modeling results. It’s difficult to notebook or a script to someone to communicate your results, but with a cloud deployment it’s much easier to share our results. Flask is a very versatile program, and will be a very useful tool for us in the future."
   ]
  },
  {
   "cell_type": "markdown",
   "id": "0b2fe94a",
   "metadata": {},
   "source": [
    "## 4. Submission instructions\n",
    "rubric={mechanics:5}\n",
    "\n",
    "In the textbox provided on Canvas please put a link to GitHub where TAs can find the following-\n",
    "- [x] This notebook with solution to Questions ```1 & 3```\n",
    "- [x] Screenshot from \n",
    "    - [x] Output after trying curl. Following is a sample (`curl_deploy_sample.png` image in folder). This is just an example; your input/output doesn't have to look like this, you can design the way you like. But at a minimum, it should show your prediction value."
   ]
  },
  {
   "cell_type": "markdown",
   "id": "42d02d5d",
   "metadata": {},
   "source": [
    "<image src=\"curl_deploy_sample.png\" />"
   ]
  }
 ],
 "metadata": {
  "kernelspec": {
   "display_name": "Python 3 (ipykernel)",
   "language": "python",
   "name": "python3"
  },
  "language_info": {
   "codemirror_mode": {
    "name": "ipython",
    "version": 3
   },
   "file_extension": ".py",
   "mimetype": "text/x-python",
   "name": "python",
   "nbconvert_exporter": "python",
   "pygments_lexer": "ipython3",
   "version": "3.10.8"
  },
  "vscode": {
   "interpreter": {
    "hash": "04169164d22e6c4be6191ef423ac86bcd59ab6849083682d987cca79592811e3"
   }
  }
 },
 "nbformat": 4,
 "nbformat_minor": 5
}
